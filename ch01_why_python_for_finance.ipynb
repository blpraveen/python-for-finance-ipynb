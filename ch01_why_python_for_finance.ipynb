{
  "metadata": {
    "name": "Why Python for Finance?"
  },
  "nbformat": 3,
  "nbformat_minor": 0,
  "worksheets": [
    {
      "cells": [
        {
          "cell_type": "heading",
          "level": 1,
          "metadata": {
          },
          "source": "Why Python for Finance?"
        },
        {
          "cell_type": "heading",
          "level": 2,
          "metadata": {
          },
          "source": "What is Python?"
        },
        {
          "cell_type": "heading",
          "level": 3,
          "metadata": {
          },
          "source": "The Programming Language"
        },
        {
          "cell_type": "markdown",
          "metadata": {
          },
          "source": "`Python` is a high-level, multi-purpose programming language that is used in a wide range of domains and technical fields. On the `Python` Web site you find the following executive summary (cf. [http://www.python.org/doc/essays/blurb.html](http://www.python.org/doc/essays/blurb.html)):"
        },
        {
          "cell_type": "markdown",
          "metadata": {
          },
          "source": "This pretty well describes _why_ `Python` has evolved to one of the major programming languages as of today. Nowadays, `Python` is used by the beginner programmer as well as by the highly skilled expert developer, at schools, in universities, at Web companies, in large corporations and financial institutions as well as in any scientific field."
        },
        {
          "cell_type": "markdown",
          "metadata": {
          },
          "source": "Among others, `Python` is characterized by the following features:"
        },
        {
          "cell_type": "markdown",
          "metadata": {
          },
          "source": "<ul>\n<li>\n<p><strong>open source</strong>: <code>Python</code> and the majority of libraries and tools available as of today are open source and generally come with quite flexible and open licenses</p>\n</li>\n<li>\n<p><strong>interpreted</strong>: the reference <code>CPython</code> implementation is an interpreter of the language which translates <code>Python</code> code at run-time to executable byte code</p>\n</li>\n<li>\n<p><strong>multi-paradigm</strong>: <code>Python</code> supports different programming and implementation paradigms, such as object orientation and imperative, functional or procedural programming</p>\n</li>\n<li>\n<p><strong>multi-purpose</strong>: <code>Python</code> can be used for rapid, interactive code development as well as for building large applications; it can be used for low level systems operations in similar fashion as for high level analytics tasks</p>\n</li>\n<li>\n<p><strong>cross-platform</strong>: <code>Python</code> is available for the most important operating systems, such as <code>Windows</code>, <code>Linux</code> and <code>Mac OS</code>; it is both used to build desktop as well as Web applications; it can be used on the largest clusters and most powerful servers as well as on such small devices as the <code>RaspberryPi</code></p>\n</li>\n<li>\n<p><strong>dynamic typing</strong>: types in <code>Python</code> are in general interfered during run-time and not statically declared as in most compiled languages</p>\n</li>\n<li>\n<p><strong>indentation</strong>: in contrast to the majority of other programming languages, <code>Python</code> uses indentation for marking code blocks instead of parantheses, brackets or semicolons</p>\n</li>\n<li>\n<p><strong>garbage collection</strong>: <code>Python</code> has automated garbage collection, avoiding the need on the side of the programmer to take (too much) care of memory management</p>\n</li>\n</ul>\n"
        },
        {
          "cell_type": "markdown",
          "metadata": {
          },
          "source": "When it comes to `Python` syntax and what `Python` is all about, the Python Enhancement Proposal 20, i.e. the so-called “Zen of Python”, provides the major guidelines. It can be accessed from every interactive shell with the command `import this` ."
        },
        {
          "cell_type": "code",
          "collapsed": false,
          "input": "Python 2.7.5 |Anaconda 1.8.0 (x86_64)| (default, Oct 24 2013, 07:02:20)\nType \"copyright\", \"credits\" or \"license\" for more information.\n\nIPython 1.1.0 -- An enhanced Interactive Python.\n?         -> Introduction and overview of IPython's features.\n%quickref -> Quick reference.\nhelp      -> Python's own help system.\nobject?   -> Details about 'object', use 'object??' for extra details.\n\nIn [1]: import this\nThe Zen of Python, by Tim Peters\n\nBeautiful is better than ugly.\nExplicit is better than implicit.\nSimple is better than complex.\nComplex is better than complicated.\nFlat is better than nested.\nSparse is better than dense.\nReadability counts.\nSpecial cases aren't special enough to break the rules.\nAlthough practicality beats purity.\nErrors should never pass silently.\nUnless explicitly silenced.\nIn the face of ambiguity, refuse the temptation to guess.\nThere should be one-- and preferably only one --obvious way to do it.\nAlthough that way may not be obvious at first unless you're Dutch.\nNow is better than never.\nAlthough never is often better than *right* now.\nIf the implementation is hard to explain, it's a bad idea.\nIf the implementation is easy to explain, it may be a good idea.\nNamespaces are one honking great idea -- let's do more of those!\n\nIn [2]:",
          "language": "python",
          "metadata": {
          },
          "outputs": [

          ]
        },
        {
          "cell_type": "heading",
          "level": 3,
          "metadata": {
          },
          "source": "Brief History of Python"
        },
        {
          "cell_type": "markdown",
          "metadata": {
          },
          "source": "Although `Python` might still have the appeal of something _new_ to some people, it has been around already for quite a long time. In fact, development efforts began in the 1980s by Guido van Rossum from the Netherlands. He is still active in `Python` development and has been awarded the title of _Benevolent Dictator of Life_ by the `Python` community (cf. [http://en.wikipedia.org/wiki/History\\_of\\_Python](http://en.wikipedia.org/wiki/History_of_Python)). The following can be considered milestones in the development of `Python` :"
        },
        {
          "cell_type": "markdown",
          "metadata": {
          },
          "source": "<ul>\n<li>\n<p><strong>Python 0.9.0</strong>: release in 1991 (first at all)</p>\n</li>\n<li>\n<p><strong>Python 1.0</strong>: release in 1994</p>\n</li>\n<li>\n<p><strong>Python 2.0</strong>: release in 2000</p>\n</li>\n<li>\n<p><strong>Python 2.6</strong>: release in 2008</p>\n</li>\n<li>\n<p><strong>Python 2.7</strong>: release in 2010</p>\n</li>\n<li>\n<p><strong>Python 3.0</strong>: release in 2008</p>\n</li>\n<li>\n<p><strong>Python 3.3</strong>: release in 2010</p>\n</li>\n</ul>\n"
        },
        {
          "cell_type": "markdown",
          "metadata": {
          },
          "source": "It is remarkable, and sometimes confusing to `Python` newcomers, that there are two major versions available, still developed and, more importantly, in parallel use since 2008. As of this writing, this will keep on for quite a while since there is neither 100% code compatibilitiy between the versions nor are all popular libraries available for `Python 3.x` . The majority of code available and in production is still `Python 2.6/2.7` and this book also is based on the `2.7.x` version although the majority of code examples should work with versions `3.x` as well."
        },
        {
          "cell_type": "heading",
          "level": 3,
          "metadata": {
          },
          "source": "The Python Ecosystem"
        },
        {
          "cell_type": "markdown",
          "metadata": {
          },
          "source": "A major feature of `Python` as an ecosystem, compared to just being a programming language, is the availability of a large number of libraries and tools. `Python` itself already comes with a large set of libraries which enhance the basic interpreter in different directions. For example, basic mathematical calculations can be done without any importing while more complex mathematical functions need to be imported through the `math` library."
        },
        {
          "cell_type": "code",
          "collapsed": false,
          "input": "In [2]: 100 * 2.5 + 50",
          "language": "python",
          "metadata": {
          },
          "outputs": [

          ]
        },
        {
          "cell_type": "code",
          "collapsed": false,
          "input": "Out[2]: 300.0",
          "language": "python",
          "metadata": {
          },
          "outputs": [

          ]
        },
        {
          "cell_type": "code",
          "collapsed": false,
          "input": "In [3]: log(1)",
          "language": "python",
          "metadata": {
          },
          "outputs": [

          ]
        },
        {
          "cell_type": "code",
          "collapsed": false,
          "input": "...\n\nNameError: name 'log' is not defined",
          "language": "python",
          "metadata": {
          },
          "outputs": [

          ]
        },
        {
          "cell_type": "code",
          "collapsed": false,
          "input": "In [4]: from math import *\n\nIn [5]: log(1)",
          "language": "python",
          "metadata": {
          },
          "outputs": [

          ]
        },
        {
          "cell_type": "code",
          "collapsed": false,
          "input": "Out[5]: 0.0",
          "language": "python",
          "metadata": {
          },
          "outputs": [

          ]
        },
        {
          "cell_type": "markdown",
          "metadata": {
          },
          "source": "Although the so-called “star import” (i.e. the practice of importing _everything_ from a library via `from library import *` ) is sometimes convenient, one should generally use an alternative approach which avoids ambiguity with regard to name spaces and relationships of functions with libraries/modules. This then takes on the form:"
        },
        {
          "cell_type": "code",
          "collapsed": false,
          "input": "In [6]: import math\n\nIn [7]: math.log(1)",
          "language": "python",
          "metadata": {
          },
          "outputs": [

          ]
        },
        {
          "cell_type": "code",
          "collapsed": false,
          "input": "Out[7]: 0.0",
          "language": "python",
          "metadata": {
          },
          "outputs": [

          ]
        },
        {
          "cell_type": "markdown",
          "metadata": {
          },
          "source": "While `math` is a standard `Python` library available with any installation, there are many more libraries that can be installed optionally and that can be used in the very same fashion as the standard libraries."
        },
        {
          "cell_type": "markdown",
          "metadata": {
          },
          "source": "The code examples presented so far, all use `IPython` ( [http://www.ipython.org](http://www.ipython.org)) which is the most popular interactive development environment (IDE). It is also sometimes called the _killer application_ of `Python` . It enhances the standard interactive shell in many ways. For example, it provides improved command line history functions and allows for easy object inspection."
        },
        {
          "cell_type": "code",
          "collapsed": false,
          "input": "In [8]: math.log?",
          "language": "python",
          "metadata": {
          },
          "outputs": [

          ]
        },
        {
          "cell_type": "code",
          "collapsed": false,
          "input": "Type:       builtin_function_or_method\nString Form:<built-in function log>\nDocstring:\nlog(x[, base])\n\nReturn the logarithm of x to the given base.\nIf the base not specified, returns the natural logarithm (base e) of x.\n\nIn [9]:",
          "language": "python",
          "metadata": {
          },
          "outputs": [

          ]
        },
        {
          "cell_type": "markdown",
          "metadata": {
          },
          "source": "`IPython` comes in three different versions, a shell version, one based on a QT graphical user interface (the _QT console_) and one browser-based version (the _Notebook_)."
        },
        {
          "cell_type": "heading",
          "level": 3,
          "metadata": {
          },
          "source": "Python User Spectrum"
        },
        {
          "cell_type": "markdown",
          "metadata": {
          },
          "source": "`Python` not only appeals to professional software developers, it is also of use for the casual developer as well as for domain experts or scientific developers."
        },
        {
          "cell_type": "markdown",
          "metadata": {
          },
          "source": "_Professional software developers_ find all that they need to efficiently build large applications. Almost all programming paradigms are supported, there are powerful development tools available and any task can in principle be addressed with `Python` . These groups of users typically build their own frameworks and classes, also work on the fundamental `Python` and scientific stack and strive to make the most of the ecosystem."
        },
        {
          "cell_type": "markdown",
          "metadata": {
          },
          "source": "_Scientific developers_ or _domain experts_ are generally heavy users of certain libraries and frameworks, have build their own applicaions which they enhance and optimize over time and tailor the ecosystem to their specific needs. This group of users also generally engages in longer interactive sessions, rapidly prototyping new code as well as exploring and visualizing their research and/or domain data sets."
        },
        {
          "cell_type": "markdown",
          "metadata": {
          },
          "source": "_Casual programmers_ like to use `Python` generally for specific problems they know that `Python` has its strengths in. For example, visiting the gallery page of `matplotlib` , copying the visualization code provided there and adjusting the code to their specific needs might be a beneficial use case for this group."
        },
        {
          "cell_type": "markdown",
          "metadata": {
          },
          "source": "There is also another important group of `Python` users: _beginner programmers_, i.e. those that begin to program at all. Nowadays, `Python` has become a very popular language at universities, colleges and even schools to introduce into programming. A major reason for this is that its basic syntax is easy-to-learn and easy-to-understand even for the non-developer. In addition, it is also helpful that `Python` supports almost all programming styles. [1](ch01.html#idp6756144)"
        },
        {
          "cell_type": "heading",
          "level": 3,
          "metadata": {
          },
          "source": "The Scientific Stack"
        },
        {
          "cell_type": "markdown",
          "metadata": {
          },
          "source": "There is a certain set of libraries that is collectively labeled the _scientific stack_. This stack comprises, among others, the following libraries:"
        },
        {
          "cell_type": "markdown",
          "metadata": {
          },
          "source": "<ul>\n<li>\n<p><strong>NumPy</strong> (<a href=\"http://www.numpy.org\">http://www.numpy.org</a>): <code>NumPy</code> provides a multi-dimensional array object to store homogenous or heterogenous data; it also provides optimized functions/methods to operate on this array object</p>\n</li>\n<li>\n<p><strong>SciPy</strong> (<a href=\"http://www.scipy.org\">http://www.scipy.org</a>): <code>SciPy</code> is a collection of sub-libraries and functions implementing important standard functionality often needed in science or finance; for example you find functions for cubic splines interpolation as well as for numerical integration</p>\n</li>\n<li>\n<p><strong>matplotlib</strong> (<a href=\"http://www.matplotlib.org\">http://www.matplotlib.org</a>): this is the most popular plotting and visualization library for <code>Python</code>, providing both 2d and 3d capabilities</p>\n</li>\n<li>\n<p><strong>PyTables</strong> (<a href=\"http://www.pytables.org\">http://www.pytables.org</a>): <code>PyTables</code> is a popular wrapper for the <code>HDF5</code> data storage library (<a href=\"http://www.hdfgroup.org/HDF5/\">http://www.hdfgroup.org/HDF5/</a>); it is a library to implement optimized, disk-based I/O operations based on a hierarchical database/file format</p>\n</li>\n<li>\n<p><strong>pandas</strong> (<a href=\"http://pandas.pydata.org\">http://pandas.pydata.org</a>): <code>pandas</code> builds on <code>NumPy</code> and provides richer classes for the management and analysis of time series and tabular data; it is tightly integrated with <code>matplotlib</code> for plotting and <code>PyTables</code> for data storage and retrieval</p>\n</li>\n</ul>\n"
        },
        {
          "cell_type": "markdown",
          "metadata": {
          },
          "source": "Depending on the specific domain or problem, this stack is enlarged by additional libraries, which more often than not have in common that they build on top of one or more of the above fundamental libraries. However, the _least common denominator_ or _basic building block_ in general is the `NumPy` `ndarray` class."
        },
        {
          "cell_type": "markdown",
          "metadata": {
          },
          "source": "Taking `Python` as a programming language alone, there is a number of other languages available that can probably keep up with its syntax and elegance. For example, `Ruby` is quite a popular language often compared to `Python` . On the language’s Web site you find the following description (cf. [http://www.ruby-lang.org](http://www.ruby-lang.org)):"
        },
        {
          "cell_type": "markdown",
          "metadata": {
          },
          "source": "The majority of people using `Python` would probably also agree with the exact same statement being made about `Python` itself. However, what `Python` distinguishes for many users from equally appealing languages like `Ruby` is the availability of the _scientific stack_. This makes `Python` not only a good and elegant language to use but also one that is capable of replacing domain-specific languages and tool sets like `Matlab` or `R` . In addition, it provides by default anything that you would expect, say, as a seasoned Web developer or systems administrator."
        },
        {
          "cell_type": "heading",
          "level": 2,
          "metadata": {
          },
          "source": "Technology in Finance"
        },
        {
          "cell_type": "markdown",
          "metadata": {
          },
          "source": "Now that we have some rough ideas of what `Python` is all about, it makes sense to step back a bit and to briefly contemplate the role of technology in finance. This will put us in a position to better judge the role `Python` already plays and, even more importantly, will probably play in the financial industry of the future."
        },
        {
          "cell_type": "markdown",
          "metadata": {
          },
          "source": "In a sense, technology per se is _nothing special_ to financial institutions (as compared, for instance, to industrial companies) or to the finance function (as compared to other corporate functions like logistics). However, in recent years, spurred by innovation and also regulation, banks and other financial instutions like hedge funds have evolved more and more to technology companies instead of being _just_ financial intermediares. Technology has become a major asset for almost any financial institution around the globe, having the potential to lead to competitive advantages as well as disadvantages. Some background information can shed light on the reasons for this development."
        },
        {
          "cell_type": "heading",
          "level": 3,
          "metadata": {
          },
          "source": "Technology Spending"
        },
        {
          "cell_type": "markdown",
          "metadata": {
          },
          "source": "Banks and financial institutions together form the industry that spends most on technology on an annual basis. The following statement therefore shows that technology is not only important for the financial industry but that the financial industry is also really important to the technology sector."
        },
        {
          "cell_type": "markdown",
          "metadata": {
          },
          "source": "Large, multi-national banks today employ generally thousands of developers that maintain existing systems and build new ones. Large investment banks with heavy technological requirements show technology budgets not seldom of several billion USD per year."
        },
        {
          "cell_type": "heading",
          "level": 3,
          "metadata": {
          },
          "source": "Technology as Enabler"
        },
        {
          "cell_type": "markdown",
          "metadata": {
          },
          "source": "The technological development has also contributed to innovations and efficiency improvements in the financial sector."
        },
        {
          "cell_type": "markdown",
          "metadata": {
          },
          "source": "As a side effect to the increasing efficiency, competitive advantages must often be looked for in ever more complex products or transactions. This in turn inherently increases risks and makes risk management as well as oversight and regulation more and more difficult. The financial crisis of 2007 and 2008 tells the story of potential dangers resulting from such developments. In similar vein, “algorithms and computers gone wild” also represent a potential risk to the financial markets which has materialized dramatically in the so-called _flash crash_ of May 2010 where automated selling led to large intraday drops in certain stocks and indexes (cf. [http://en.wikipedia.org/wiki/2010\\_Flash\\_Crash](http://en.wikipedia.org/wiki/2010_Flash_Crash))."
        },
        {
          "cell_type": "heading",
          "level": 3,
          "metadata": {
          },
          "source": "Technology and Talent as Barriers to Entry"
        },
        {
          "cell_type": "markdown",
          "metadata": {
          },
          "source": "On the one hand, technology advances reduce cost over time ceteris paribus. On the other hand, financial institutions continue to invest heavily in technology to both gain market share and to defend their current positions. To be active in certain areas in finance today often brings with it the need for large scale investments in both technology and also skilled staff. As an example, consider the _derivatives analytics_ space."
        },
        {
          "cell_type": "markdown",
          "metadata": {
          },
          "source": "Not only that it is costly and time consuming to build a full-fledged derivatives analytics library, you also need to have _enough experts_ to do so. And these experts have to have the right tools and technologies available to accomplish their taks. Another quote about the early days of Long-Term Capital Management (LTCM), one of the formerly most respected quantitative hedge funds — which, however, went bust in the late nineties — further supports this insight about technology and talent."
        },
        {
          "cell_type": "markdown",
          "metadata": {
          },
          "source": "The same computing power that Meriwether had to buy for millions of USD is today probably available for thousands of USD. On the other hand, trading, pricing and risk management have become as complex for larger financial institutions that today they need to deploy IT infrastructures with tens of thousands of computing cores."
        },
        {
          "cell_type": "heading",
          "level": 3,
          "metadata": {
          },
          "source": "Ever Increasing Speeds, Frequencies, Data Volumes"
        },
        {
          "cell_type": "markdown",
          "metadata": {
          },
          "source": "There is one dimension of the finance industry that has been influenced most by technological advances: the _speed_ and _frequency_ with which financial transactions are decided and executed. On the one hand, increasing data availabiliy on ever smaller scales makes it necessary to react real-time. On the other hand, the increasing speed and frequency of trading let the data volumes further increase. This leads to processes that reinforce each other and pushing the average time scale for financial transactions systematically down."
        },
        {
          "cell_type": "markdown",
          "metadata": {
          },
          "source": "30 years worth of daily stock price data for a single stock represent roughly 7,500 quotes. This kind of data is what most of today’s finance theory is based on. For example, theories like the modern portfolio theory (MPT), the capital asset pricing model (CAPM) or value-at-risk (VaR) have all their foundations in daily stock price data."
        },
        {
          "cell_type": "markdown",
          "metadata": {
          },
          "source": "In comparison, on a typical trading day the stock price of Apple Inc. (AAPL) is quoted around 15,000 times — two times as many quotes as seen for end-of-day quoting over a time span of 60 years. This brings with it a number of challenges:"
        },
        {
          "cell_type": "markdown",
          "metadata": {
          },
          "source": "<ul>\n<li>\n<p><strong>data processing</strong>: it does not suffice to consider and process end-of-day quotes for stocks or other financial instruments; “too much” happens during the day, for some instruments during 24 hours for 7 days a week</p>\n</li>\n<li>\n<p><strong>analytics speed</strong>: decisions have to be made often in milliseconds or even faster, making it necessary to build the respective analytics capabilities and to analyze large amounts of data in real-time</p>\n</li>\n<li>\n<p><strong>theoretical foundations</strong>: although traditional finance theories and concepts are far from being perfect, they have been well-tested (and sometimes well-rejected) over time; for the millisecond scales important as of today, consistent concepts and theories are still missing that have proven to be somehow robust over time</p>\n</li>\n</ul>\n"
        },
        {
          "cell_type": "markdown",
          "metadata": {
          },
          "source": "All these challenges can in principle only be addressed by modern technology. Something which might also be a little bit surprising: also the lack of consistent theories often is addressed by technological approaches in that high-speed algorithms exploit market microstructure elements (e.g. order flow, bid-ask spreads) rather than relying on some kind of financial reasoning."
        },
        {
          "cell_type": "heading",
          "level": 3,
          "metadata": {
          },
          "source": "The Rise of Real-Time Analytics"
        },
        {
          "cell_type": "markdown",
          "metadata": {
          },
          "source": "There is one discipline that has seen a strong increase in importance in the finance industry: _financial and data analytics_. This phenomenon has a close relationship to the insight that speed, frequencies and data volumes increase at a rapid pace in the industry. In fact, real-time analytics can be considered the industry’s answer to this trend."
        },
        {
          "cell_type": "markdown",
          "metadata": {
          },
          "source": "Roughly speaking, financial and data analytics refers to the discipline of applying software and technology in combination with (possibly advanced) algorithms and methods to gather, process and analyze data in order to gain insights, to make decisions or to fulfill regulatory requirements, for instance. Examples might include the estimation of the impacts of a change in the pricing of different financial products in the retail branch of a bank. Another example might be the large scale overnight calculation of credit value adjustments (CVA) for complex portfolios of derivatives trades of an investment bank."
        },
        {
          "cell_type": "markdown",
          "metadata": {
          },
          "source": "There are two _major challenges_ that financial institutions face in this context:"
        },
        {
          "cell_type": "markdown",
          "metadata": {
          },
          "source": "<ul>\n<li>\n<p><strong>big data</strong>: banks and other financial institutions have to deal with massive amounts of data since long; however, the data that has to be processed during single analytics tasks has increased tremendously over time, demanding for both increased computing power as well as ever larger memory and storage capacities</p>\n</li>\n<li>\n<p><strong>real-time economy</strong>: in the past, decision makers could rely on structured, regular planning, decision and (risk) management processes whereas they today face the need to take care of these functions in real-time; many functions that have been taken care of in the past in the back-office via overnight batch runs of applications have now been moved to the front-office and are executed in real-time</p>\n</li>\n</ul>\n"
        },
        {
          "cell_type": "markdown",
          "metadata": {
          },
          "source": "Again, one can observe an interplay between advances in technology and financial/business practice. On the one hand, there is the need to constantly improve analytics approaches in terms of speed and capability by applying modern technologies. On the other hand, advances on the technology side allow new analytics approaches that have been considered impossible (or infeasable due to budget constraints) a couple of years or even months ago."
        },
        {
          "cell_type": "markdown",
          "metadata": {
          },
          "source": "One major trend in the analytics space has been the utilization of parallel architectures on the CPU (central processing unit) side and massively parallel architectures on the GPGPU (general purpose graphical processing units) side. Current GPGPUs not seldom have more than 1,000 computing cores making necessary a sometimes radical re-thinking of what parallelism might mean to different algorithms. What is still an obstacle in this regard is that users generally have to learn new paradigms and techniques to harness the power of such hardware."
        },
        {
          "cell_type": "heading",
          "level": 2,
          "metadata": {
          },
          "source": "Python for Finance"
        },
        {
          "cell_type": "markdown",
          "metadata": {
          },
          "source": "The previous section describes some selected aspects characterizing the role of technology in finance:"
        },
        {
          "cell_type": "markdown",
          "metadata": {
          },
          "source": "<ul>\n<li>\n<p>costs for technology in the finance industry</p>\n</li>\n<li>\n<p>technology as enabler for new business and innovation</p>\n</li>\n<li>\n<p>technology and talent as barriers to entry in the finance industry</p>\n</li>\n<li>\n<p>increasing speeds, frequencies and data volumes</p>\n</li>\n<li>\n<p>the rise of real-time analytics</p>\n</li>\n</ul>\n"
        },
        {
          "cell_type": "markdown",
          "metadata": {
          },
          "source": "In this section, we want to analyze how `Python` can help in addressing several of the challenges implied by these aspects. But first, on a more fundamental level, let us examine `Python` for finance from a language and syntax standpoint."
        },
        {
          "cell_type": "heading",
          "level": 3,
          "metadata": {
          },
          "source": "Finance and Python Syntax"
        },
        {
          "cell_type": "markdown",
          "metadata": {
          },
          "source": "Most people who make their first steps with `Python` in a finance context may attack an algorithmic problem. This is similar to a scientist who, for example, wants to solve a differential equation, wants to evaluate an integral or simply wants to visualize some data. In general, at this stage, there is only little thought spent on topics like a formal development process, testing, documentation or deployment. However, especially this seems to be the stage when people fall in love with `Python` . A major reason for this is that the `Python` syntax is generally quite close to the mathematical syntax used to describe scientific problems or financial algorithms."
        },
        {
          "cell_type": "markdown",
          "metadata": {
          },
          "source": "We want to illustrate this phenomenon by a simple financial algorithm, namely to valuation of a European call option by Monte Carlo simulation. We consider a Black Scholes Merton (BSM) set-up in which the option’s underlying follows a geometric Brownian motion."
        },
        {
          "cell_type": "markdown",
          "metadata": {
          },
          "source": "Consider we have given the numerical **parameter values** for the valuation as follows:"
        },
        {
          "cell_type": "markdown",
          "metadata": {
          },
          "source": "<ul>\n<li>\n<p>initial stock index level <span data-type=\"tex\">$S_0=100$</span></p>\n</li>\n<li>\n<p>strike price of the European call option <span data-type=\"tex\">$K=105$</span></p>\n</li>\n<li>\n<p>time-to-maturity <span data-type=\"tex\">$T=1$</span> year</p>\n</li>\n<li>\n<p>constant, risk-less short rate <span data-type=\"tex\">$ r=5\\% $</span></p>\n</li>\n<li>\n<p>constant volatility <span data-type=\"tex\">$ \\sigma=20\\% $</span></p>\n</li>\n</ul>\n"
        },
        {
          "cell_type": "markdown",
          "metadata": {
          },
          "source": "In the BSM model, the index level at maturity is a random variable, given by Black Scholes Merton (1973) index level at maturity with $z$ being a standard normally distributed random variable."
        },
        {
          "cell_type": "markdown",
          "metadata": {
          },
          "source": "The following is an **algorithmic description** of the Monte Carlo valuation procedure:"
        },
        {
          "cell_type": "markdown",
          "metadata": {
          },
          "source": "<ol>\n<li>\n<p>Draw <span data-type=\"tex\">$I$</span> (pseudo-)random numbers <span data-type=\"tex\">$z(i), i \\in \\{1, 2, ..., I \\}, $</span> from the standard normal distribution</p>\n</li>\n<li>\n<p>Calculate all resulting index levels at maturity <span data-type=\"tex\">$S_T(i) = S_0 \\exp(rT + \\sigma \\sqrt{T} z(i))$</span></p>\n</li>\n<li>\n<p>Calculate all inner values of the option at maturity as <span data-type=\"tex\">$ h_T(i) = \\max \\left( S_T(i)-K, 0 \\right) $</span></p>\n</li>\n<li>\n<p>Estimate the option present value via the Monte Carlo estimator <span data-type=\"tex\">$C_0 \\approx e^{-rT} \\sum_I h_T(i) / I$</span></p>\n</li>\n\n</ol>\n"
        },
        {
          "cell_type": "markdown",
          "metadata": {
          },
          "source": "We are now going to translate this problem and algorithm into `Python` code. First, let us start with the parameter values. This is really easy."
        },
        {
          "cell_type": "code",
          "collapsed": false,
          "input": "S0 = 100.\nK = 105.\nT = 1.0\nr = 0.05\nsigma = 0.2",
          "language": "python",
          "metadata": {
          },
          "outputs": [

          ]
        },
        {
          "cell_type": "markdown",
          "metadata": {
          },
          "source": "Next the valuation algorithm. Here, we will for the first time use `NumPy` which makes life also quite easy for our second task."
        },
        {
          "cell_type": "code",
          "collapsed": false,
          "input": "from numpy import *\n\nI = 100000\n\nz = standard_normal(I)\nST = S0 * exp(r * T + sigma * sqrt(T) * z)\nhT = maximum(ST - K, 0)\nC0 = exp(-r * T) * sum(hT) / I",
          "language": "python",
          "metadata": {
          },
          "outputs": [

          ]
        },
        {
          "cell_type": "markdown",
          "metadata": {
          },
          "source": "Three aspects are worth highlighting:"
        },
        {
          "cell_type": "markdown",
          "metadata": {
          },
          "source": "<ul>\n<li>\n<p><strong>syntax</strong>: the <code>Python</code> syntax is indeed quite close to the mathematical syntax, e.g. when it comes to the parameter value assignments</p>\n</li>\n<li>\n<p><strong>translation</strong>: every mathematical and/or algorithmic statement can generally be translated into a <em>single</em> line of <code>Python</code> code</p>\n</li>\n<li>\n<p><strong>vectorization</strong>: one of the strengths of <code>NumPy</code> is the compact, vectorized syntax, e.g. allowing for 100,000 calcluations within a single line of code</p>\n</li>\n</ul>\n"
        },
        {
          "cell_type": "markdown",
          "metadata": {
          },
          "source": "This code can be used in an interactive environment like `IPython` . However, code that is meant to be reused regularly, typically gets organized in `modules` which are single `Python` files with the suffix `.py` . Such a `module` could in this case look as in Example 1-1 and could be saved as a file named `BSM_MCS.py` ."
        },
        {
          "cell_type": "markdown",
          "metadata": {
          },
          "source": "The rather simple algorithmic example in this sub-section illustrates that `Python` with its very syntax is well suited to complement the classic duo of scientific languages, _English_ and _Mathematics_. It seems to be that the set of scientifc languages gets well rounded by adding `Python` to it:"
        },
        {
          "cell_type": "markdown",
          "metadata": {
          },
          "source": "<ul>\n<li>\n<p><strong>English</strong> for <em>writing, talking</em> about scientific, financial problems, aspects, etc.</p>\n</li>\n<li>\n<p><strong>Mathematics</strong> for <em>concisely and exactly describing and modelling</em> abstract aspects, algorithms, complex quantities, etc.</p>\n</li>\n<li>\n<p><strong>Python</strong> for <em>technically modelling and implementing</em> abstract aspects, algorithms, complex quantities, etc.</p>\n</li>\n</ul>\n"
        },
        {
          "cell_type": "markdown",
          "metadata": {
          },
          "source": "In some areas, it is common practice to use _pseudo code_ and therewith to introduce a fourth language family member. The role of pseudo code is to represent, for example, financial algorithms in a more technical fashion that is both still close to the mathematical representation and already quite close to the technical implementation. In addition to the algrithm itself, pseudo code takes into account how computers work in principle."
        },
        {
          "cell_type": "markdown",
          "metadata": {
          },
          "source": "This practice generally has its cause in the fact that with most programming languages the technical implementation is quite “far away” from its formal, mathematical representation. The majority of programming languages makes it necessary to include so much elements that are only technically required that it is hard to see the equivalence between the mathematics and the code."
        },
        {
          "cell_type": "markdown",
          "metadata": {
          },
          "source": "Nowadays, `Python` is often used in a _pseudo code way_ since its syntax is almost analogous to the mathematics and since the technical “overhead” is kept to a minimum. This is accomplished by a number of high level concepts embodied in the language that not only have their advantages but rather come in general with risks and/or other costs. However, it is safe to say that with `Python` you can, whenever the need arises, follow the same strict implementation and coding practices that other languages might require from the outset. In that sense, `Python` can provide the best of both worlds: _high-level abstraction_ and _rigorous implementation_."
        },
        {
          "cell_type": "heading",
          "level": 3,
          "metadata": {
          },
          "source": "Efficiency and Productivity Through Python"
        },
        {
          "cell_type": "markdown",
          "metadata": {
          },
          "source": "On a high level, benefits from using `Python` can be measured in three dimensions:"
        },
        {
          "cell_type": "markdown",
          "metadata": {
          },
          "source": "<ul>\n<li>\n<p><strong>efficiency</strong>: how can <code>Python</code> help in getting results faster, in saving costs, in saving time?</p>\n</li>\n<li>\n<p><strong>productivity</strong>: how can <code>Python</code> help in getting done more with the same resources (people, assets, etc.)?</p>\n</li>\n<li>\n<p><strong>quality</strong>: what does <code>Python</code> allow us to do that we could not do with alternative technologies?</p>\n</li>\n</ul>\n"
        },
        {
          "cell_type": "markdown",
          "metadata": {
          },
          "source": "A discussion of these aspects can by nature not be exhaustive. However, it can highlight some arguments as a starting point."
        },
        {
          "cell_type": "heading",
          "level": 4,
          "metadata": {
          },
          "source": "Shorter Time-to-Results"
        },
        {
          "cell_type": "markdown",
          "metadata": {
          },
          "source": "A field where the efficiency of `Python` becomes quite obvious is interactive data analytics. This is a field that benefits strongly from such powerful tools like `IPython` and libraries like `pandas` ."
        },
        {
          "cell_type": "markdown",
          "metadata": {
          },
          "source": "Consider a finance student, writing her master thesis and being interested in Google stock prices. She wants to analyze historical stock price information for, say, five years to see how the volatility of the stock price has fluctuated over time. She wants to find evidence that volatility, in contrast to some typical model assumptions, fluctuates over time and is far from being constant. The results should be visualized. She mainly has to do the following:"
        },
        {
          "cell_type": "markdown",
          "metadata": {
          },
          "source": "<ul>\n<li>\n<p><strong>data</strong>: download Google stock price data from the Web</p>\n</li>\n<li>\n<p><strong>volatility</strong>: calculate the rolling standard deviation of the log returns</p>\n</li>\n<li>\n<p><strong>plot</strong>: plot the stock price data and the results</p>\n</li>\n</ul>\n"
        },
        {
          "cell_type": "markdown",
          "metadata": {
          },
          "source": "These tasks are complex enough that not too long ago one would have considered them to be something for professional financial analysts. Today, even the finance student can easily cope with such problems. Let us see how exactly this works. First, make sure to have available all necessary libraries."
        },
        {
          "cell_type": "code",
          "collapsed": false,
          "input": "In [1]: import numpy as np\n        import pandas as pd\n        import pandas.io.data as pdd",
          "language": "python",
          "metadata": {
          },
          "outputs": [

          ]
        },
        {
          "cell_type": "markdown",
          "metadata": {
          },
          "source": "Second, retrieve the data from, say, Yahoo! Finance."
        },
        {
          "cell_type": "code",
          "collapsed": false,
          "input": "In [2]: goog = pdd.DataReader('GOOG', data_source='yahoo',\n                      start='1/17/2009', end='1/17/2014')\n\t\tgoog.tail()",
          "language": "python",
          "metadata": {
          },
          "outputs": [

          ]
        },
        {
          "cell_type": "code",
          "collapsed": false,
          "input": "Out[2]:                Open     High      Low    Close   Volume  Adj Close\n        Date\n        2014-01-13  1126.47  1146.91  1117.17  1122.98  2418900    1122.98\n        2014-01-14  1137.95  1151.00  1128.09  1149.40  2482600    1149.40\n        2014-01-15  1152.99  1155.00  1143.79  1148.62  1950200    1148.62\n        2014-01-16  1149.10  1157.93  1148.00  1156.22  1683900    1156.22\n        2014-01-17  1156.85  1160.63  1144.20  1150.53  2701300    1150.53",
          "language": "python",
          "metadata": {
          },
          "outputs": [

          ]
        },
        {
          "cell_type": "markdown",
          "metadata": {
          },
          "source": "Third, implement the necessary analytics for the volatilities."
        },
        {
          "cell_type": "code",
          "collapsed": false,
          "input": "In [3]: goog['Log_Ret'] = np.log(goog['Close'] / goog['Close'].shift(1))\n        goog['Volatility'] = pd.rolling_std(goog['Log_Ret'],\n                                            window=252) * np.sqrt(252)",
          "language": "python",
          "metadata": {
          },
          "outputs": [

          ]
        },
        {
          "cell_type": "markdown",
          "metadata": {
          },
          "source": "Fourth, plot the results."
        },
        {
          "cell_type": "code",
          "collapsed": false,
          "input": "In [4]: goog[['Close', 'Volatility']].plot(subplots=True, color='blue')",
          "language": "python",
          "metadata": {
          },
          "outputs": [

          ]
        },
        {
          "cell_type": "markdown",
          "metadata": {
          },
          "source": "Figure 1-1 shows the graphical result of this brief interactive session with `Python` . It can be considered almost amazing that four lines of code suffice to implement three rather complex tasks typically encounterd in financial analytics: data gathering, complex, repeated mathematical calculations and visualization of results. This example illustrates that `pandas` makes working with whole time series as simple as doing mathematical operations on floating point numbers."
        },
        {
          "cell_type": "markdown",
          "metadata": {
          },
          "source": "<figure id=\"goog_vola\"><img src=\"files/images/goog_vola.png\" alt=\"goog vola\"><figcaption>Google closing prices and yearly volatility</figcaption></figure>"
        },
        {
          "cell_type": "markdown",
          "metadata": {
          },
          "source": "Translated to a professional finance context, the example implies that financial analysts can — when applying the right `Python` tools and libraries, providing high level abstraction — focus on their very domain and do not have to take care too much of the technical intrinsicalities. Analysts can react faster, providing valuable insights almost in real-time and make sure to be one step ahead of the competition. This example of _increased efficieny_ can easily translate into measurable bottom line effects."
        },
        {
          "cell_type": "heading",
          "level": 4,
          "metadata": {
          },
          "source": "Ensuring High Performance"
        },
        {
          "cell_type": "markdown",
          "metadata": {
          },
          "source": "In general, it is accepted that `Python` has a rather concise syntax and that it is relatively efficient to code in `Python` . However, due to the very nature of `Python` as being an interpreted language the _prejudice_ persists that `Python` generally is too slow for compute intensive tasks in finance. Indeed, depending on the specific implementation approach taken, `Python` can be really slow. But it _does not have to be slow_ — it can be highly performing in almost any application area. In principle, one can distinguish at least three different strategies for better performance:"
        },
        {
          "cell_type": "markdown",
          "metadata": {
          },
          "source": "<ul>\n<li>\n<p><strong>paradigm</strong>: in general many different ways can lead to the same result in <code>Python</code>, but with rather different performance characteristics; “simply” choosing the right way (e.g. a specific library) can improve results already significantly</p>\n</li>\n<li>\n<p><strong>compiling</strong>: nowadays, there are several performance libraries available that provide compiled versions of important functions or that compile <code>Python</code> code statically or dynamically (at run-time or call-time) to machine code which can run orders of magnitude faster; popular ones are <code>Cython</code> and <code>Numba</code></p>\n</li>\n<li>\n<p><strong>parallelization</strong>: many computational tasks, in particular in finance, can strongly benefit from parallel execution; this is nothing special to <code>Python</code> but something that can quite easily accomplished with it</p>\n</li>\n</ul>\n"
        },
        {
          "cell_type": "markdown",
          "metadata": {
          },
          "source": "Later chapters illustrate all three techniques in detail. For the moment, we want to stick to a simple, but still realisitic, example that touches upon all three techniques."
        },
        {
          "cell_type": "markdown",
          "metadata": {
          },
          "source": "A quite common task in financial analytics is to evaluate complex mathematical expressions on large arrays of numbers. To this end, `Python` itself provides everything needed."
        },
        {
          "cell_type": "code",
          "collapsed": false,
          "input": "In [1]: loops = 25000000\n        from math import *\n        a = range(1, loops)\n        def f(x):\n            return 3 * log(x) + cos(x) ** 2\n        %timeit r = [f(x) for x in a]",
          "language": "python",
          "metadata": {
          },
          "outputs": [

          ]
        },
        {
          "cell_type": "code",
          "collapsed": false,
          "input": "Out[1]: 1 loops, best of 3: 15 s per loop",
          "language": "python",
          "metadata": {
          },
          "outputs": [

          ]
        },
        {
          "cell_type": "markdown",
          "metadata": {
          },
          "source": "15 seconds needs the `Python` interpreter in this case to evaluate the function `f` 25,000,000 times. The same task can be implemented using `NumPy` which provides optimized, i.e. _pre-compiled_, functions to handle such array-based operations."
        },
        {
          "cell_type": "code",
          "collapsed": false,
          "input": "In [2]: import numpy as np\n        a = np.arange(1, loops)\n        %timeit r = 3 * np.log(a) + np.cos(a) ** 2",
          "language": "python",
          "metadata": {
          },
          "outputs": [

          ]
        },
        {
          "cell_type": "code",
          "collapsed": false,
          "input": "Out[2]: 1 loops, best of 3: 1.69 s per loop",
          "language": "python",
          "metadata": {
          },
          "outputs": [

          ]
        },
        {
          "cell_type": "markdown",
          "metadata": {
          },
          "source": "Using `NumPy` considerably reduces the execution time to 1.7 seconds. However, there is even a library specially dedicated to this kind of task. It is `numexpr` , for “numerical expressions”. It _compiles_ the expression to improve upon the performance of `NumPy’s` general functionality by, for example, avoiding in-memory copies of arrays along the way."
        },
        {
          "cell_type": "code",
          "collapsed": false,
          "input": "In [3]: import numexpr as ne\n        ne.set_num_threads(1)\n        f = '3 * log(a) + cos(a) ** 2'\n        %timeit r = ne.evaluate(f)",
          "language": "python",
          "metadata": {
          },
          "outputs": [

          ]
        },
        {
          "cell_type": "code",
          "collapsed": false,
          "input": "Out[3]: 1 loops, best of 3: 1.18 s per loop",
          "language": "python",
          "metadata": {
          },
          "outputs": [

          ]
        },
        {
          "cell_type": "markdown",
          "metadata": {
          },
          "source": "Using this more specialized approach further reduces execution time to 1.2 seconds. However, `numexpr` has also built-in capabilities to parallelize the execution of the respective operation. To this end, we can use all available threads of a CPU."
        },
        {
          "cell_type": "code",
          "collapsed": false,
          "input": "In [4]: ne.set_num_threads(4)\n        %timeit r = ne.evaluate(f)",
          "language": "python",
          "metadata": {
          },
          "outputs": [

          ]
        },
        {
          "cell_type": "code",
          "collapsed": false,
          "input": "Out[4]: 1 loops, best of 3: 523 ms per loop",
          "language": "python",
          "metadata": {
          },
          "outputs": [

          ]
        },
        {
          "cell_type": "markdown",
          "metadata": {
          },
          "source": "This brings execution time further down to 0.5 seconds in this case with four threads utilized. Overall, a performance improvement of 30 times. Note, in particular, that this kind of improvement is possible without altering the basic problem/algorithm and without knowing anything about compiling and parallelization issues. The capabilities are accessible from a high level even by non-experts. However, one has to be aware, of course, of which capabilities exist."
        },
        {
          "cell_type": "markdown",
          "metadata": {
          },
          "source": "The example shows that `Python` provides a number of options to make more out of existing resources, i.e. to _increase productivity_. With the sequential approach, ca. 21 mn evaluations per second are accomplished while the parallel approach allows for almost 48 mn evaluations per second — in this case simply by telling `Python` to use all available CPU threads instead of just one."
        },
        {
          "cell_type": "heading",
          "level": 3,
          "metadata": {
          },
          "source": "From Prototyping to Production"
        },
        {
          "cell_type": "markdown",
          "metadata": {
          },
          "source": "Efficiency in interactive analytics and performance when it comes to execution speed are certainly two benefits of `Python` to consider. Yet another major benefit of using `Python` for finance might at first sight seem a bit more subtle, at second sight it might present itself as an important strategic factor. It is the possibility to use `Python` end-to-end from _prototyping to production_."
        },
        {
          "cell_type": "markdown",
          "metadata": {
          },
          "source": "Today’s practice in financial institutions around the globe, when it comes to financial development processes, is often characterized by a mainly separated, two step process. On the one hand, there are the _quantitative analysts_ (quants) responsible for model development and technical prototyping, in general. They like to use tools and environments like `Matlab` and `R` that allow for rapid, interactive application development. At this stage of the development efforts, issues like performance, stability, exception management, separation of data access and analytics, among others, are not that important. One is mainly looking for a proof-of-concept and/or a prototype that exhibits the main desired features of an algorithm or a whole application."
        },
        {
          "cell_type": "markdown",
          "metadata": {
          },
          "source": "Once the prototype is finished, IT departments with their _developers_ take over and are responsible for translating the existing prototype code reliable, maintainable and performant production code. Typically, at this stage there is a paradigm shift in that languages like `C` ++ or `Java` are now used to fulfill the requirements for production. Also a formal development process with professional tools, version control, etc. is applied."
        },
        {
          "cell_type": "markdown",
          "metadata": {
          },
          "source": "This two step approach has a number of generally unintended consequences:"
        },
        {
          "cell_type": "markdown",
          "metadata": {
          },
          "source": "<ul>\n<li>\n<p><strong>inefficiencies</strong> prototype code is not re-usable, algorithms have to be implemented twice, redundant efforts take time and resources</p>\n</li>\n<li>\n<p><strong>diverse skill sets</strong> different departments show different skill sets and use different languages to implement “the same things”</p>\n</li>\n<li>\n<p><strong>legacy code</strong> code is available and has to be maintained in different languages, often using different styles of implementation (e.g. from an architectural point of view)</p>\n</li>\n</ul>\n"
        },
        {
          "cell_type": "markdown",
          "metadata": {
          },
          "source": "Using `Python` on the other hand can accomplish a _streamlined_ end-to-end process from first interacitve prototyping steps to highly reliable and efficiently maintainable production code. The communication between different departments becomes more easy. The training of the work force is also more streamlined in that there is only one major language covering all areas of financial application building. It also avoids the inherent inefficiencies and redundancies when using different technologies in different steps of the development process. All in all, `Python` can provide a _consistent technological framework_ for almost all tasks in financial application development and algorithm implementation."
        },
        {
          "cell_type": "heading",
          "level": 2,
          "metadata": {
          },
          "source": "Conclusions"
        },
        {
          "cell_type": "markdown",
          "metadata": {
          },
          "source": "`Python` as a language — but much more so as an ecosystem — is an ideal technological framework to be used in the financial industry. It is characterized by a number of benefits, like an elegant syntax, efficient development approaches, use for prototyping _and_ production, among others. `Python` with its huge amount of libraries and tools available seems to have answers to most questions raised by recent developments in the financial industry in terms of analytics, data volumes and frequency, compliance and regulation as well as technology itself. It has the potential to provide a _single, powerful, consistent framework_ with which to streamline end-to-end developement and production efforts even across larger financial institutions."
        },
        {
          "cell_type": "heading",
          "level": 2,
          "metadata": {
          },
          "source": "Further Reading"
        },
        {
          "cell_type": "markdown",
          "metadata": {
          },
          "source": "There are two books available that cover the use of `Python` in finance."
        },
        {
          "cell_type": "markdown",
          "metadata": {
          },
          "source": "<ul>\n<li>\n<p>Fletcher, Shayne and Christopher Gardener (2009): <em>Financial Modeling in Python</em>. John Wiley &amp; Sons, Chichester.</p>\n</li>\n<li>\n<p>Hilpisch, Yves (2013): <em>Derivatives Analytics with Python</em>. Visixion GmbH, www.derivatives-analytics-with-python.com.</p>\n</li>\n</ul>\n"
        },
        {
          "cell_type": "markdown",
          "metadata": {
          },
          "source": "The quotes in this chapter are taken from the following resources."
        },
        {
          "cell_type": "markdown",
          "metadata": {
          },
          "source": "<ul>\n<li>\n<p>Deutsche Boerse Group (2008): <em>The Global Derivatives Market — An Introduction</em>. White Paper.</p>\n</li>\n<li>\n<p>Ding, Cubillas (2010): “Optimizing the OTC Pricing and Valuation Infrastructure.” Celent Study.</p>\n</li>\n<li>\n<p>Patterson, Scott (2010): <em>The Quants.</em> Crown Business, New York.</p>\n</li>\n<li>\n<p>The Economist (3rd December 2009): “Silo but Deadly.” <a href=\"http://www.economist.com/node/15016132\">http://www.economist.com/node/15016132</a>.</p>\n</li>\n</ul>"
        }
      ],
      "metadata": {
      }
    }
  ]
}