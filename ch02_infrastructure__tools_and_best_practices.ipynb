{
  "metadata": {
    "name": "Infrastructure, Tools and Best Practices"
  },
  "nbformat": 3,
  "nbformat_minor": 0,
  "worksheets": [
    {
      "cells": [
        {
          "cell_type": "heading",
          "level": 1,
          "metadata": {
          },
          "source": "Infrastructure, Tools and Best Practices"
        },
        {
          "cell_type": "markdown",
          "metadata": {
          },
          "source": "You could say, infrastructure is not everything but without infrastructure everything can be nothing — be it in the real world or in technology. However, as the quote above suggests, infrastructure is often used in rather abstract terms. What do we mean then by infrastructure? In principe, these are those hardware and software components that allow the development and execution of a `Python` script or more complex `Python` applictions."
        },
        {
          "cell_type": "markdown",
          "metadata": {
          },
          "source": "However, neither does this chapter go into detail with regard to hardware infrastructure since all `Python` code and examples should be executable on almost any hardware. [2](ch02.html#idp7745776) Nor does it discuss different operating systems since the code should be executable on any operating system on which `Python` in principle is available. This chapter rather focuses on the following software related topics:"
        },
        {
          "cell_type": "markdown",
          "metadata": {
          },
          "source": "<ul>\n<li>\n<p><strong>deployment</strong>: how can I make sure to have everything needed available in a consistent fashion to deploy <code>Python</code> code and applications?; this chapter introduces <code>Anaconda</code>, a <code>Python</code> distribution which makes deployment quite efficient, and <code>Wakari</code> which allows a Web-based deployment</p>\n</li>\n<li>\n<p><strong>tools</strong>: which tools shall I use for (interactive) <code>Python</code> development and data analytics?; the chapter introduces two of the most popular development environments for <code>Python</code>, namely <code>IPython</code> and <code>Spyder</code>; it also briefly introduces into working with <code>Git</code> as a version control system</p>\n</li>\n<li>\n<p><strong>best practices</strong>: which best practices should I follow when developing <code>Python</code> code?; the chapter briefly reviews fundamentals of, for example, code organization, code syntax and documentation</p>\n</li>\n</ul>\n"
        },
        {
          "cell_type": "heading",
          "level": 2,
          "metadata": {
          },
          "source": "Python Deployment"
        },
        {
          "cell_type": "markdown",
          "metadata": {
          },
          "source": "This section shows how to deploy `Python` locally (or on a server) as well as via the Web browser."
        },
        {
          "cell_type": "heading",
          "level": 3,
          "metadata": {
          },
          "source": "Anaconda"
        },
        {
          "cell_type": "markdown",
          "metadata": {
          },
          "source": "A number of operating systems comes already with a version of `Python` and a number of additional libraries installed. This is true, for example, for `Linux` operating systems, some distributions of which als rely on `Python` as their main language (for packaging, administration, etc.). However, in what follows we assume that `Python` is not installed or that we install an additional version of `Python` (in parallel) to an existing one using the `Anaconda` distribution."
        },
        {
          "cell_type": "markdown",
          "metadata": {
          },
          "source": "You can download `Anaconda` for your operating system from the Web site [http://store.continuum.io/cshop/anaconda/](http://store.continuum.io/cshop/anaconda/). There are a couple of reasons to consider using `Anaconda` for `Python` deployment. Among them are:"
        },
        {
          "cell_type": "markdown",
          "metadata": {
          },
          "source": "<ul>\n<li>\n<p><strong>libraries/packages</strong> you get more than 100 of the most important <code>Python</code> libraries and packages in a single installation step; in paticular, you get all these installed in a version-consistent manner, i.e. all libraries and packages work with each other</p>\n</li>\n<li>\n<p><strong>open source</strong> the <code>Anaconda</code> distribution is free of charge in general<a data-type=\"noteref\" id=\"idp7771824-marker\" href=\"ch02.html#idp7771824\"><sup>3</sup></a>, as are all libraries and packages included</p>\n</li>\n<li>\n<p><strong>cross platform</strong> it is available for <code>Windows</code>, <code>Apple</code> and <code>Linux</code> platforms</p>\n</li>\n<li>\n<p><strong>separate installation</strong> it installs into a separate directory without interfering with any existing installation; no root/admin rights needed</p>\n</li>\n<li>\n<p><strong>automatic updates</strong> libraries and packages included in <code>Anaconda</code> can be (semi-)autmatically updated via free online repositories</p>\n</li>\n<li>\n<p><strong>conda package manager</strong> the package manager allows the use of multiple <code>Python</code> versions and multiple version of libraries in parallel (for experimentation or development/testing purposes); it also has great support for vitual environments</p>\n</li>\n</ul>\n"
        },
        {
          "cell_type": "markdown",
          "metadata": {
          },
          "source": "After having downloaded the respective installer for `Anaconda` , the installation in general is quite easy. On `Windows` platforms just double click the installer file and follow the instructions. Under `Linux` open a shell change to the directory where the installer file is located and type"
        },
        {
          "cell_type": "code",
          "collapsed": false,
          "input": "$ bash Anaconda-1.x.x-Linux-x86[_64].sh",
          "language": "python",
          "metadata": {
          },
          "outputs": [

          ]
        },
        {
          "cell_type": "markdown",
          "metadata": {
          },
          "source": "where you replace the file name by the respective name of you installer file. Then again follow the instructions. It is the same on a `Apple` computer, just type"
        },
        {
          "cell_type": "code",
          "collapsed": false,
          "input": "$ bash Anaconda-1.x.x-MacOSX-x86_64.sh",
          "language": "python",
          "metadata": {
          },
          "outputs": [

          ]
        },
        {
          "cell_type": "markdown",
          "metadata": {
          },
          "source": "making sure you replace the name above by the correct one."
        },
        {
          "cell_type": "markdown",
          "metadata": {
          },
          "source": "After the installation you now have more than 100 libraries and packages available that you can use immediately. Among the scientific and data analytics packages are those listed in Table 2-1."
        },
        {
          "cell_type": "markdown",
          "metadata": {
          },
          "source": "<table id=\"anaconda_libs\">\n<caption>Selected libraries and packages included in Anaconda</caption>\n<thead><tr>\n<th>name</th>\n<th>description</th>\n</tr></thead>\n<tbody>\n<tr>\n<td><p><code>BitArray</code></p></td>\n<td><p>object types for arrays of Booleans</p></td>\n</tr>\n<tr>\n<td><p><code>Cubes</code> <code>OLAP</code></p></td>\n<td><p>framework for <code>Python</code></p></td>\n</tr>\n<tr>\n<td><p><code>Disco</code></p></td>\n<td><p><code>mapreduce</code> implementation for distributed computing</p></td>\n</tr>\n<tr>\n<td><p><code>Gdata</code></p></td>\n<td><p>implementation of Google Data Protocol</p></td>\n</tr>\n<tr>\n<td><p><code>h5py</code></p></td>\n<td><p><code>Python</code> wrapper around <code>HDF5</code> file format</p></td>\n</tr>\n<tr>\n<td><p><code>HDF5</code></p></td>\n<td><p>file format for fast I/O operations</p></td>\n</tr>\n<tr>\n<td><p><code>IPython</code></p></td>\n<td><p>interactive development environment (IDE)</p></td>\n</tr>\n<tr>\n<td><p><code>lxml</code></p></td>\n<td><p>processing <code>XML</code> and <code>HTML</code> with <code>Python</code></p></td>\n</tr>\n<tr>\n<td><p><code>matplotlib</code></p></td>\n<td><p>standard 2d and 3d plotting library</p></td>\n</tr>\n<tr>\n<td><p><code>MPI4Py</code></p></td>\n<td><p>Message Parsing Interface (MPI) implementation for parallel computation</p></td>\n</tr>\n<tr>\n<td><p><code>MPICH2</code></p></td>\n<td><p>another MPI implementation</p></td>\n</tr>\n<tr>\n<td><p><code>NetworkX</code></p></td>\n<td><p>building and analyzing network models and algorithms</p></td>\n</tr>\n<tr>\n<td><p><code>numexpr</code></p></td>\n<td><p>optimized execution of numerical expressions</p></td>\n</tr>\n<tr>\n<td><p><code>NumPy</code></p></td>\n<td><p>powerful array class and optimized functions on it</p></td>\n</tr>\n<tr>\n<td><p><code>pandas</code></p></td>\n<td><p>efficient handling of times series data</p></td>\n</tr>\n<tr>\n<td><p><code>PyTables</code></p></td>\n<td><p>hierarchical database using <code>HDF5</code></p></td>\n</tr>\n<tr>\n<td><p><code>SciPy</code></p></td>\n<td><p>collection of scientific functions</p></td>\n</tr>\n<tr>\n<td><p><code>Scikit-Learn</code></p></td>\n<td><p>machine learning algorithms</p></td>\n</tr>\n<tr>\n<td><p><code>Spyder</code></p></td>\n<td><p><code>Python</code> IDE with syntax checking, debugging, inspection</p></td>\n</tr>\n<tr>\n<td><p><code>statsmodels</code></p></td>\n<td><p>statistical models</p></td>\n</tr>\n<tr>\n<td><p><code>SymPy</code></p></td>\n<td><p>symbolic computation and mathematics</p></td>\n</tr>\n<tr>\n<td><p><code>Theano</code></p></td>\n<td><p>mathematical expression compiler</p></td>\n</tr>\n</tbody>\n</table>\n"
        },
        {
          "cell_type": "markdown",
          "metadata": {
          },
          "source": "If the installation procedure was successful, you should be able to start the `Spyder` IDE by simply typing in the shell:"
        },
        {
          "cell_type": "code",
          "collapsed": false,
          "input": "$ spyder",
          "language": "python",
          "metadata": {
          },
          "outputs": [

          ]
        },
        {
          "cell_type": "markdown",
          "metadata": {
          },
          "source": "Alternatively, you can start a `Python` session from the shell as follows:"
        },
        {
          "cell_type": "code",
          "collapsed": false,
          "input": "$ python\nPython 2.7.6 |Anaconda 1.8.0 (x86_64)| (default, Jan 10 2014, 11:23:15)\n[GCC 4.0.1 (Apple Inc. build 5493)] on darwin\nType \"help\", \"copyright\", \"credits\" or \"license\" for more information.\n>>> print \"Hello World.\"\nHello World.\n>>> exit()\n$",
          "language": "python",
          "metadata": {
          },
          "outputs": [

          ]
        },
        {
          "cell_type": "markdown",
          "metadata": {
          },
          "source": "`Anaconda` by default installs, at the time of this writing, with `Python 2.7.x` . It always comes with `conda` the package manager. Useful information about this tool can be obtained by the command:"
        },
        {
          "cell_type": "code",
          "collapsed": false,
          "input": "$ conda info\nCurrent conda install:\n\n             platform : osx-64\n        conda version : 3.0.0\n     root environment : /Library/anaconda  (writable)\n  default environment : /Library/anaconda\n     envs directories : /Library/anaconda/envs\n        package cache : /Library/anaconda/pkgs\n         channel URLs : http://repo.continuum.io/pkgs/free/osx-64/\n                        http://repo.continuum.io/pkgs/pro/osx-64/\n          config file : None\n    is foreign system : False\n\n$",
          "language": "python",
          "metadata": {
          },
          "outputs": [

          ]
        },
        {
          "cell_type": "markdown",
          "metadata": {
          },
          "source": "`conda` allows to search for libraries and packages, both locally and in available online repositories."
        },
        {
          "cell_type": "code",
          "collapsed": false,
          "input": "$ conda search pytables\npytables                     2.4.0                np16py26_0  defaults\n                             2.4.0                np16py27_0  defaults\n                             2.4.0                np17py26_0  defaults\n                             2.4.0                np17py27_0  defaults\n                             3.0.0                np16py26_0  defaults\n                             3.0.0                np16py27_0  defaults\n                             3.0.0                np17py26_0  defaults\n                             3.0.0                np17py27_0  defaults\n                             3.0.0                np16py26_1  defaults\n                             3.0.0                np16py27_1  defaults\n                             3.0.0                np17py26_1  defaults\n                          *  3.0.0                np17py27_1  defaults\n                             3.0.0                np17py33_1  defaults",
          "language": "python",
          "metadata": {
          },
          "outputs": [

          ]
        },
        {
          "cell_type": "markdown",
          "metadata": {
          },
          "source": "The results contain those versions of `PyTables` in this case that are available for download and installation and that are installed (indicated by the asterisk). Similary, the `list` command gives all locally installed packages that match a certain pattern. The following lists all packages that start with “py”."
        },
        {
          "cell_type": "code",
          "collapsed": false,
          "input": "$ conda list ^py\n# packages in environment at /Library/anaconda:\npy                        1.4.17                   py27_0\npyaudio                   0.2.7                    py27_0\npycosat                   0.6.0                    py27_0\npycparser                 2.9.1                    py27_0\npycrypto                  2.6.1                    py27_0\npycurl                    7.19.0                   py27_2\npyface                    4.3.0                    py27_0\npyflakes                  0.7.3                    py27_0\npygments                  1.6                      py27_0\npykit                     0.1.0                np17py27_0\npyparsing                 1.5.6                    py27_0\npysal                     1.6.0                np17py27_1\npysam                     0.6                      py27_0\npyside                    1.1.2                    py27_1\npytables                  3.0.0                np17py27_1\npytest                    2.4.2                    py27_0\npython                    2.7.6                         1\npython.app                1.2                      py27_1\npytz                      2013b                    py27_0\npyyaml                    3.10                     py27_0\npyzmq                     2.2.0.1                  py27_1",
          "language": "python",
          "metadata": {
          },
          "outputs": [

          ]
        },
        {
          "cell_type": "markdown",
          "metadata": {
          },
          "source": "More complex patterns are also possible."
        },
        {
          "cell_type": "code",
          "collapsed": false,
          "input": "$ conda list ^p.*les$\n# packages in environment at /Library/anaconda:\npytables                  3.0.0                np17py27_1\n$",
          "language": "python",
          "metadata": {
          },
          "outputs": [

          ]
        },
        {
          "cell_type": "markdown",
          "metadata": {
          },
          "source": "Suppose we want to have available `Python 3.x`  — in addition to the `2.7.x` version. The package manager `conda` allows the creation of an environment in which to accomplish this goal. The following output shows a complete list of the packages included in the environment after its creation."
        },
        {
          "cell_type": "code",
          "collapsed": false,
          "input": "$ conda create -n py33test anaconda=1.8 python=3.3 numpy=1.7\n\nPackage plan for creating environment at /Library/anaconda/envs/py33test:\n\nThe following packages will be downloaded:\n\n    package                    |            build\n    ---------------------------|-----------------\n    anaconda-1.8.0             |       np17py33_0           2 KB\n    astropy-0.2.5              |       np17py33_0         3.3 MB\n    beautiful-soup-4.3.1       |           py33_0         114 KB\n    bitarray-0.8.1             |           py33_0          55 KB\n    colorama-0.2.7             |           py33_0          15 KB\n    cython-0.19.2              |           py33_0         1.9 MB\n    dateutil-2.1               |           py33_2         146 KB\n    distribute-0.6.45          |           py33_0         538 KB\n    docutils-0.11              |           py33_0         648 KB\n    dynd-python-0.5.0          |       np17py33_0         263 KB\n    flask-0.10.1               |           py33_1         139 KB\n    greenlet-0.4.1             |           py33_0          14 KB\n    ipython-1.1.0              |           py33_0         2.9 MB\n    ipython-notebook-1.1.0     |           py33_0          695 B\n    itsdangerous-0.23          |           py33_0          16 KB\n    jinja2-2.7.1               |           py33_0         367 KB\n    llvmmath-0.1.1             |       np17py33_2          82 KB\n    llvmpy-0.12.0              |           py33_0         485 KB\n    lxml-3.2.3                 |           py33_0         824 KB\n    markupsafe-0.18            |           py33_0          20 KB\n    matplotlib-1.3.1           |       np17py33_0        34.3 MB\n    mdp-3.3                    |       np17py33_0         684 KB\n    netcdf4-1.0.6              |       np17py33_0         335 KB\n    networkx-1.8.1             |           py33_0         704 KB\n    nose-1.3.0                 |           py33_0         202 KB\n    numba-0.11.0               |       np17py33_0         1.1 MB\n    numexpr-2.2.2              |       np17py33_0         129 KB\n    numpy-1.7.1                |           py33_0         2.6 MB\n    openpyxl-1.6.2             |           py33_0         110 KB\n    pandas-0.12.0              |       np17py33_0         3.5 MB\n    patsy-0.2.1                |       np17py33_0         241 KB\n    pillow-2.1.0               |           py33_0         409 KB\n    pip-1.4.1                  |           py33_0         664 KB\n    ply-3.4                    |           py33_0          69 KB\n    psutil-1.1.2               |           py33_0          88 KB\n    pycosat-0.6.0              |           py33_0          56 KB\n    pycparser-2.9.1            |           py33_0         144 KB\n    pycrypto-2.6.1             |           py33_0         454 KB\n    pyflakes-0.7.3             |           py33_0          51 KB\n    pygments-1.6               |           py33_0         919 KB\n    pyparsing-1.5.6            |           py33_0          62 KB\n    pytables-3.0.0             |       np17py33_1         1.3 MB\n    python-3.3.2               |                1        16.0 MB\n    pytz-2013b                 |           py33_0         228 KB\n    pyyaml-3.10                |           py33_0         151 KB\n    pyzmq-2.2.0.1              |           py33_1         261 KB\n    requests-1.2.3             |           py33_0         502 KB\n    scikit-image-0.9.3         |       np17py33_0         6.2 MB\n    scipy-0.13.0               |       np17py33_0        11.0 MB\n    six-1.4.1                  |           py33_0          12 KB\n    sphinx-1.1.3               |           py33_4         914 KB\n    sqlalchemy-0.8.3           |           py33_0         1.1 MB\n    statsmodels-0.5.0          |       np17py33_0         5.6 MB\n    sympy-0.7.3                |           py33_0         5.3 MB\n    tornado-3.1.1              |           py33_0         544 KB\n    werkzeug-0.9.4             |           py33_0         433 KB\n    xlrd-0.9.2                 |           py33_0         179 KB\n\nThe following packages will be linked:\n\n    package                    |            build\n    ---------------------------|-----------------\n    anaconda-1.8.0             |       np17py33_0   hard-link\n    ...\n    zlib-1.2.7                 |                1   hard-link\n\nProceed ([y]/n)?",
          "language": "python",
          "metadata": {
          },
          "outputs": [

          ]
        },
        {
          "cell_type": "markdown",
          "metadata": {
          },
          "source": "When you type `y` to confirm the creation, `conda` will do as proposed, i.e. downloading, extracting and linking the packages."
        },
        {
          "cell_type": "code",
          "collapsed": false,
          "input": "...\nwerkzeug-0.9.4-py33_0.tar.bz2 100% |###########################################\n##################################################| Time: 0:00:01 399.23 kB/s\nxlrd-0.9.2-py33_0.tar.bz2 100% |###############################################\n##################################################| Time: 0:00:00 237.17 kB/s\nExtracting packages ...\n[      COMPLETE      ] |#######################################################\n#######################################################################| 100%\nLinking packages ...\n[      COMPLETE      ] |#######################################################\n#######################################################################| 100%\n#\n# To activate this environment, use:\n# $ source activate py33test\n#\n# To deactivate this environment, use:\n# $ source deactivate\n#",
          "language": "python",
          "metadata": {
          },
          "outputs": [

          ]
        },
        {
          "cell_type": "markdown",
          "metadata": {
          },
          "source": "Now activate the new environment as advised by `conda` ."
        },
        {
          "cell_type": "code",
          "collapsed": false,
          "input": "$ source activate py33test\nprepending /Library/anaconda/envs/py33test/bin to PATH\n(py33test)$ python\nPython 3.3.2 |Anaconda 1.8.0 (x86_64)| (default, Aug  5 2013, 15:07:24)\n[GCC 4.0.1 (Apple Inc. build 5493)] on darwin\nType \"help\", \"copyright\", \"credits\" or \"license\" for more information.\n>>> print \"Hello Python 3.3\"\n  File \"<stdin>\", line 1\n    print \"Hello Python 3.3\"\n                           ^\nSyntaxError: invalid syntax\n>>> print (\"Hello Python 3.3\")\nHello Python 3.3\n>>> exit()\n$",
          "language": "python",
          "metadata": {
          },
          "outputs": [

          ]
        },
        {
          "cell_type": "markdown",
          "metadata": {
          },
          "source": "Obviously, we indeed are now in the `Python 3.3` world, which you can judge from the `Python` version number displayed and the fact that you need parentheses for the `print` statement to work correctly. [4](ch02.html#idp7864592)"
        },
        {
          "cell_type": "markdown",
          "metadata": {
          },
          "source": "Single libraries and packages can be installed in the general `Anaconda` installation or a specific environment by the `install` command of `conda` ."
        },
        {
          "cell_type": "code",
          "collapsed": false,
          "input": "$ conda install scipy",
          "language": "python",
          "metadata": {
          },
          "outputs": [

          ]
        },
        {
          "cell_type": "markdown",
          "metadata": {
          },
          "source": "For a specific environment use:"
        },
        {
          "cell_type": "code",
          "collapsed": false,
          "input": "$ conda install -n py33test scipy",
          "language": "python",
          "metadata": {
          },
          "outputs": [

          ]
        },
        {
          "cell_type": "markdown",
          "metadata": {
          },
          "source": "Here, `py33test` is the environment we have created before. Similarly, you can update single packages easily."
        },
        {
          "cell_type": "code",
          "collapsed": false,
          "input": "$ conda update pandas\n\nPackage plan for installation in environment /Library/anaconda:\n\nThe following packages will be downloaded:\n\n    package                    |            build\n    ---------------------------|-----------------\n    pandas-0.13.0              |       np17py27_0         4.0 MB\n    six-1.5.2                  |           py27_0          13 KB\n\nThe following packages will be UN-linked:\n\n    package                    |            build\n    ---------------------------|-----------------\n    numpy-1.7.1                |           py27_0\n    pandas-0.12.0              |       np17py27_0\n    scipy-0.13.0               |       np17py27_0\n    six-1.4.1                  |           py27_0\n\nThe following packages will be linked:\n\n    package                    |            build\n    ---------------------------|-----------------\n    numpy-1.7.1                |           py27_2   hard-link\n    pandas-0.13.0              |       np17py27_0   hard-link\n    scipy-0.13.2               |       np17py27_1   hard-link\n    six-1.5.2                  |           py27_0   hard-link\n\nProceed ([y]/n)? y\n\nFetching packages ...\npandas-0.13.0-np17py27_0.tar.bz2 100% |########################################\n##################################################| Time: 0:00:08 483.27 kB/s\nsix-1.5.2-py27_0.tar.bz2 100% |################################################\n##################################################| Time: 0:00:00  46.72 kB/s\nExtracting packages ...\n[      COMPLETE      ] |#######################################################\n#######################################################################| 100%\nUnlinking packages ...\n[      COMPLETE      ] |#######################################################\n#######################################################################| 100%\nLinking packages ...\n[      COMPLETE      ] |#######################################################\n#######################################################################| 100%\n$",
          "language": "python",
          "metadata": {
          },
          "outputs": [

          ]
        },
        {
          "cell_type": "markdown",
          "metadata": {
          },
          "source": "The packages to download and link depend on the respective version of the package that is installed. These can be very few to only one (the package itself), but they can also be quite numerous when a package has a number of dependencies for which no current version is installed. For the newly created environment the updating would take on the form:"
        },
        {
          "cell_type": "code",
          "collapsed": false,
          "input": "$ conda update -n py33test pandas",
          "language": "python",
          "metadata": {
          },
          "outputs": [

          ]
        },
        {
          "cell_type": "markdown",
          "metadata": {
          },
          "source": "Finally, `conda` makes it easy to remove packages with the `remove` command from the main installation or an environment. The basic usage is:"
        },
        {
          "cell_type": "code",
          "collapsed": false,
          "input": "$ conda remove scipy",
          "language": "python",
          "metadata": {
          },
          "outputs": [

          ]
        },
        {
          "cell_type": "markdown",
          "metadata": {
          },
          "source": "For an environment it is:"
        },
        {
          "cell_type": "code",
          "collapsed": false,
          "input": "$ conda remove -n py33test scipy",
          "language": "python",
          "metadata": {
          },
          "outputs": [

          ]
        },
        {
          "cell_type": "markdown",
          "metadata": {
          },
          "source": "Since the removal is a somehow “final” operation you might want to _dry run_ the command."
        },
        {
          "cell_type": "code",
          "collapsed": false,
          "input": "$ conda remove --dry-run -n py33test scipy\n\nPackage plan for package removal in environment /Library/anaconda/envs/py33test:\n\nThe following packages will be UN-linked:\n\n    package                    |            build\n    ---------------------------|-----------------\n    scipy-0.13.0               |       np17py33_0\n\nDry run: exiting\n$",
          "language": "python",
          "metadata": {
          },
          "outputs": [

          ]
        },
        {
          "cell_type": "markdown",
          "metadata": {
          },
          "source": "If you are sure, you can go ahead with the actual removal."
        },
        {
          "cell_type": "code",
          "collapsed": false,
          "input": "$ conda remove -n py33test scipy\n\nPackage plan for package removal in environment /Library/anaconda/envs/py33test:\n\nThe following packages will be UN-linked:\n\n    package                    |            build\n    ---------------------------|-----------------\n    scipy-0.13.0               |       np17py33_0\n\nProceed ([y]/n)? y\n\nUnlinking packages ...\n[      COMPLETE      ] |#######################################################\n#######################################################################| 100%\n$",
          "language": "python",
          "metadata": {
          },
          "outputs": [

          ]
        },
        {
          "cell_type": "markdown",
          "metadata": {
          },
          "source": "Finally, we can clean up the whole environment by use of the option `--all` ."
        },
        {
          "cell_type": "code",
          "collapsed": false,
          "input": "$ conda remove --all -n py33test\n\nPackage plan for package removal in environment /Library/anaconda/envs/py33test:\n\nThe following packages will be UN-linked:\n\n    package                    |            build\n    ---------------------------|-----------------\n    anaconda-1.8.0             |       np17py33_0\n\t...\n    zeromq-2.2.0               |                1\n    zlib-1.2.7                 |                1\n\nProceed ([y]/n)? y\n\nUnlinking packages ...\n[      COMPLETE      ] |#######################################################\n#######################################################################| 100%\n$",
          "language": "python",
          "metadata": {
          },
          "outputs": [

          ]
        },
        {
          "cell_type": "markdown",
          "metadata": {
          },
          "source": "The package manager `conda` makes `Python` deployment quite convenient. Apart from the basic functionalities illustrated in this section, there is also a number of more advanced features available. A detailed documentation is found under [http://docs.continuum.io/conda/](http://docs.continuum.io/conda/)."
        },
        {
          "cell_type": "heading",
          "level": 3,
          "metadata": {
          },
          "source": "Wakari"
        },
        {
          "cell_type": "markdown",
          "metadata": {
          },
          "source": "There is a number of reasons why one would like to deploy `Python` via a Web browser. Among them are:"
        },
        {
          "cell_type": "markdown",
          "metadata": {
          },
          "source": "<ul>\n<li>\n<p><strong>no need for installation</strong>: local installations of a complete <code>Python</code> environment might both be complex, e.g. in a large organisation with many computers, and costly to support and maintain; making <code>Python</code> available via a Web browser makes deployment much more efficient in certain scenarios</p>\n</li>\n<li>\n<p><strong>use of (better) remote hardware</strong>: when it comes to complex, compute- and memory-intensive analytics tasks, a local computer might not be able to perform such tasks; the use of (multiple) shared servers with multiple cores and larger memories makes such tasks possible and makes them more efficient</p>\n</li>\n<li>\n<p><strong>collaboration</strong>: working, for example, with a team on a single or multiple servers makes collaboration more simple and also increases efficiency in that data is not moved to every local machine and, after the analytics tasks are finished, the results are not moved back to some central storage unit and/or distributed among the team members</p>\n</li>\n</ul>\n"
        },
        {
          "cell_type": "markdown",
          "metadata": {
          },
          "source": "`Wakari.io` is a Web-based data analytics and collaboration platform developed and offered by Continuum Analytics. There is a free plan available (see [http://www.wakari.io](http://www.wakari.io)), but also plans for professional use as well as for on-site installations. It features, among others the following basic components:"
        },
        {
          "cell_type": "markdown",
          "metadata": {
          },
          "source": "<ul>\n<li>\n<p><strong>file manager</strong>: a tool to manage file up- and downloads</p>\n</li>\n<li>\n<p><strong>Linux terminal</strong>: a full-featured <code>Linux</code> terminal to work with the server (in this case instances in the Amazon cloud)</p>\n</li>\n<li>\n<p><strong>Anaconda</strong>: there is an <code>Anaconda</code> installation which allows, for example, to easily switch between <code>Python 2.7.x</code> and <code>Python 3.3.x</code></p>\n</li>\n<li>\n<p><strong>Python shell</strong>: there is the standard <code>Python</code> shell available</p>\n</li>\n<li>\n<p><strong>IPython Notebook</strong>: in addition, you can use <code>IPython Notebook</code> which is the browser version of this enhanced IDE</p>\n</li>\n</ul>\n"
        },
        {
          "cell_type": "markdown",
          "metadata": {
          },
          "source": "For example, `Wakari` allows to share complete `IPython Notebook` bundles, containing the `Notebook` itself and all files needed to execute the notebook. Figure 2-1 shows a screenshot of `Wakari 1.0` . At the time of this writing, the offering is under a major revision. In the future there will be even more focus on collaboration features, like the use of `projects` that can be shared and the definition of `project` team members."
        },
        {
          "cell_type": "markdown",
          "metadata": {
          },
          "source": "<figure id=\"wakari\"><img src=\"files/images/wakari.png\" alt=\"wakari\"><figcaption>Screenshot of Wakari.io</figcaption></figure>"
        },
        {
          "cell_type": "heading",
          "level": 2,
          "metadata": {
          },
          "source": "Tools"
        },
        {
          "cell_type": "markdown",
          "metadata": {
          },
          "source": "Success and popularity of a programming language not seldom result to some extent from the tools that are available to work with the language. It has long been the case that `Python` was considered a nice, easy-to-learn and easy-to-use language, but without a compelling set of tools for interactive analytics or development. This has changed dramatically recently. There is now a large number of tools available that help analysts and developers to be as productive as possible with `Python` . It is not possible to give even a somehow exhaustive overview. However, it is possible to highlight two of the most popular tools in use today: `IPython` and `Spyder` . But before we come to these, first a brief look at the standard interactive `Python` prompt."
        },
        {
          "cell_type": "heading",
          "level": 3,
          "metadata": {
          },
          "source": "Python"
        },
        {
          "cell_type": "markdown",
          "metadata": {
          },
          "source": "From the system shell/command line interface, `Python` is invoked by simply typing `python` ."
        },
        {
          "cell_type": "code",
          "collapsed": false,
          "input": "$ python\nPython 2.7.6 |Anaconda 1.8.0 (x86_64)| (default, Jan 10 2014, 11:23:15)\n[GCC 4.0.1 (Apple Inc. build 5493)] on darwin\nType \"help\", \"copyright\", \"credits\" or \"license\" for more information.\n>>> print \"Hello Python for Finance World.\"\nHello Python for Finance World.\n>>> exit()\n$",
          "language": "python",
          "metadata": {
          },
          "outputs": [

          ]
        },
        {
          "cell_type": "markdown",
          "metadata": {
          },
          "source": "Although you can do quite a bit of `Python` with the standard prompt, most people prefer to use `IPython` by default since this environment provides _everything_ that the standard interpreter prompt offers and _much more_ on top of that."
        },
        {
          "cell_type": "heading",
          "level": 3,
          "metadata": {
          },
          "source": "IPython"
        },
        {
          "cell_type": "markdown",
          "metadata": {
          },
          "source": "`IPython` is already used in [Chapter 1](ch01.html#why_python_for_finance) to present the first examples of `Python` code. This section gives an overview of the capabilities of `IPython` mainly by reyling of specific examples. A complete eco-system has evolved around `IPython` that is so successful and appealing that other languages try to make use of the basic approach and architecture it provides. For example, there is a version of `IPython` for the `Julia` language. This trend has gained such a momentum that there is even an ongoing discussion of renaming `IPython` and giving it a language-neutral name."
        },
        {
          "cell_type": "heading",
          "level": 4,
          "metadata": {
          },
          "source": "From Shell to Browser"
        },
        {
          "cell_type": "markdown",
          "metadata": {
          },
          "source": "`IPython` comes in three flavors:"
        },
        {
          "cell_type": "markdown",
          "metadata": {
          },
          "source": "<ul>\n<li>\n<p><strong>shell</strong>: the shell version is based on the system and <code>Python</code> shell as the name suggests; there are no graphical capabilities included (apart from displaying plots in a separate window)</p>\n</li>\n<li>\n<p><strong>QT console</strong>: this version is based on the QT graphical user interface framework, is more feature-rich and allows, for example, for inline graphics</p>\n</li>\n<li>\n<p><strong>Notebook</strong>: this is a JavaScripts-based Web browser version that has become the community favorite for interactive analytics and also teaching, presenting, etc.</p>\n</li>\n</ul>\n"
        },
        {
          "cell_type": "markdown",
          "metadata": {
          },
          "source": "The shell version is invoked by simply typing `IPython` in the shell."
        },
        {
          "cell_type": "code",
          "collapsed": false,
          "input": "$ ipython\nPython 2.7.6 |Anaconda 1.8.0 (x86_64)| (default, Jan 10 2014, 11:23:15)\nType \"copyright\", \"credits\" or \"license\" for more information.\n\nIPython 1.1.0 -- An enhanced Interactive Python.\n?         -> Introduction and overview of IPython's features.\n%quickref -> Quick reference.\nhelp      -> Python's own help system.\nobject?   -> Details about 'object', use 'object??' for extra details.\n\nIn [1]: 3 + 4 * 2\nOut[1]: 11\n\nIn [2]:",
          "language": "python",
          "metadata": {
          },
          "outputs": [

          ]
        },
        {
          "cell_type": "markdown",
          "metadata": {
          },
          "source": "Using the option `--pylab` imports a large set of scientific and data analysis libraries in the name space."
        },
        {
          "cell_type": "code",
          "collapsed": false,
          "input": "$ ipython --pylab\nPython 2.7.6 |Anaconda 1.8.0 (x86_64)| (default, Jan 10 2014, 11:23:15)\nType \"copyright\", \"credits\" or \"license\" for more information.\n\nIPython 1.1.0 -- An enhanced Interactive Python.\n?         -> Introduction and overview of IPython's features.\n%quickref -> Quick reference.\nhelp      -> Python's own help system.\nobject?   -> Details about 'object', use 'object??' for extra details.\nUsing matplotlib backend: MacOSX\n\nIn [1]: a = linspace(0, 10, 25)\n\nIn [2]: a\nOut[2]:\narray([  0.        ,   0.41666667,   0.83333333,   1.25      ,\n         1.66666667,   2.08333333,   2.5       ,   2.91666667,\n         3.33333333,   3.75      ,   4.16666667,   4.58333333,\n         5.        ,   5.41666667,   5.83333333,   6.25      ,\n         6.66666667,   7.08333333,   7.5       ,   7.91666667,\n         8.33333333,   8.75      ,   9.16666667,   9.58333333,  10.        ])\n\nIn [3]:",
          "language": "python",
          "metadata": {
          },
          "outputs": [

          ]
        },
        {
          "cell_type": "markdown",
          "metadata": {
          },
          "source": "Similarly, the `QT console` of `IPython` is invoked by the following command."
        },
        {
          "cell_type": "code",
          "collapsed": false,
          "input": "$ ipython qtconsole --pylab inline",
          "language": "python",
          "metadata": {
          },
          "outputs": [

          ]
        },
        {
          "cell_type": "markdown",
          "metadata": {
          },
          "source": "Using the `inline` parameter in addition to the `--pylab` option lets `IPython` plot all graphics inline. Figure 2-2 shows a screenshot of the `QT console` with an inline plot."
        },
        {
          "cell_type": "markdown",
          "metadata": {
          },
          "source": "<figure id=\"qtconsole\"><img src=\"files/images/qtconsole.png\" alt=\"qtconsole\"><figcaption>IPython’s QT console</figcaption></figure>"
        },
        {
          "cell_type": "markdown",
          "metadata": {
          },
          "source": "Finally, the `Notebook` version. It is invoked as follows. Figure 2-3 shows a screenshot of an `IPython Notebook` session."
        },
        {
          "cell_type": "code",
          "collapsed": false,
          "input": "$ ipython notbook --pylab inline",
          "language": "python",
          "metadata": {
          },
          "outputs": [

          ]
        },
        {
          "cell_type": "markdown",
          "metadata": {
          },
          "source": "<figure id=\"notebook\"><img src=\"files/images/notebook.png\" alt=\"notebook\"><figcaption>IPython’s browser based Notebook</figcaption></figure>"
        },
        {
          "cell_type": "markdown",
          "metadata": {
          },
          "source": "All in all, there is a large number of options for how to invoke an `IPython` kernel. Below is a listing of all the options which cannot be explained in detail here. Refer to the `IPython` documentation [http://www.ipython.org/documentation.html](http://www.ipython.org/documentation.html) for detailed explanations."
        },
        {
          "cell_type": "code",
          "collapsed": false,
          "input": "$ ipython --h\nusage: ipython [-h] [--profile TERMINALIPYTHONAPP.PROFILE]\n               [-c TERMINALIPYTHONAPP.CODE_TO_RUN]\n               [--logappend TERMINALINTERACTIVESHELL.LOGAPPEND]\n               [--autocall TERMINALINTERACTIVESHELL.AUTOCALL]\n               [--ipython-dir TERMINALIPYTHONAPP.IPYTHON_DIR]\n               [--gui TERMINALIPYTHONAPP.GUI]\n               [--pylab [TERMINALIPYTHONAPP.PYLAB]]\n               [-m TERMINALIPYTHONAPP.MODULE_TO_RUN]\n               [--ext TERMINALIPYTHONAPP.EXTRA_EXTENSION]\n               [--cache-size TERMINALINTERACTIVESHELL.CACHE_SIZE]\n               [--log-level TERMINALIPYTHONAPP.LOG_LEVEL]\n               [--colors TERMINALINTERACTIVESHELL.COLORS]\n               [--matplotlib [TERMINALIPYTHONAPP.MATPLOTLIB]]\n               [--logfile TERMINALINTERACTIVESHELL.LOGFILE]\n               [--config TERMINALIPYTHONAPP.EXTRA_CONFIG_FILE]\n               [--profile-dir PROFILEDIR.LOCATION] [--no-autoindent]\n               [--deep-reload] [--classic] [--term-title] [--no-confirm-exit]\n               [--autoindent] [--no-term-title] [--pprint] [--color-info]\n               [--init] [--pydb] [--no-color-info] [--autoedit-syntax]\n               [--confirm-exit] [--no-autoedit-syntax] [--quick] [--banner]\n               [--automagic] [--no-automagic] [--nosep] [-i] [--quiet]\n               [--no-deep-reload] [--no-pdb] [--debug] [--pdb] [--no-pprint]\n               [--no-banner]",
          "language": "python",
          "metadata": {
          },
          "outputs": [

          ]
        },
        {
          "cell_type": "heading",
          "level": 4,
          "metadata": {
          },
          "source": "Basic Usage"
        },
        {
          "cell_type": "markdown",
          "metadata": {
          },
          "source": "In what follows, we describe the basic usage of the `IPython Notebook` . A fundamental concept of the `Notebook` is that you work with different kinds of cells. There are the following types:"
        },
        {
          "cell_type": "markdown",
          "metadata": {
          },
          "source": "<ul>\n<li>\n<p><strong>code</strong>: contains executable <code>Python</code> code</p>\n</li>\n<li>\n<p><strong>markdown</strong>: contains text written in markdown language and/or <code>HTML</code></p>\n</li>\n<li>\n<p><strong>raw text</strong>: contains text without formatting</p>\n</li>\n<li>\n<p><strong>heading 1-6</strong>: headings for text structuring, e.g. section heads</p>\n</li>\n</ul>\n"
        },
        {
          "cell_type": "markdown",
          "metadata": {
          },
          "source": "The different cell types already indicate that the `Notebook` is more than a `Python` shell only. It is intended to fulfill the requirements of a multitude of documentation and presentation scenarios. For example, an `IPython Notebook` file, having a suffix of `.ipynb` , can be converted to the following formats:"
        },
        {
          "cell_type": "markdown",
          "metadata": {
          },
          "source": "<ul>\n<li>\n<p><strong>HTML page</strong>: generates a single <code>HTML</code> page from a single <code>IPython Notebook</code> file</p>\n</li>\n<li>\n<p><strong>HTML5 slides</strong>: making use of different cell markings for slide shows, a <code>Notebook</code> file is converted in a presentation with multiple <code>HTML5</code> slides (using the <code>reveal.js</code> framework)</p>\n</li>\n<li>\n<p><strong>Latex/PDF</strong>: such a file can also be converted to a <code>Latex</code> file which then can be converted into a <code>PDF</code> document</p>\n</li>\n<li>\n<p><strong>RestructuredText</strong>: <code>RestructuredText</code> (<code>.rst</code>) is used, for example, by the <code>SPHINX</code> documentation package for <code>Python</code> projects (cf. <a href=\"http://sphinx-doc.org/\">http://sphinx-doc.org/</a>)</p>\n</li>\n</ul>\n"
        },
        {
          "cell_type": "markdown",
          "metadata": {
          },
          "source": "The format of an `IPython Notebook` file is mainly oriented on the `JavaScript Object Notation (JSON)` standard. Below you see the text version of the `Notebook` displayed in Figure 2-3. You will notice some meta data, the different types of cells, their content and that even graphics are translated into `ASCII` characters."
        },
        {
          "cell_type": "code",
          "collapsed": false,
          "input": "link:ipython/ipynb_example.txt[]",
          "language": "python",
          "metadata": {
          },
          "outputs": [

          ]
        },
        {
          "cell_type": "markdown",
          "metadata": {
          },
          "source": "For example, when converting such a file to `Latex` , `raw text` cells can contain `Latex` code since the conent of such a cell is simply passed on by the converter. All this is one of the reasons why the `IPython Notebook` is nowadays used for the composition of larger, more complex documents, like a scientific research paper. You have executable code and documenting text in a single file that can be translated into a number of different output formats."
        },
        {
          "cell_type": "markdown",
          "metadata": {
          },
          "source": "In a finance context, this makes `IPython` also a valuable tool since, for example, the mathematical description of an algorithm and the executable `Python` version can live in the same document. Depending on the usage scenario, a Web page (e.g. intranet), a `PDF` document (e.g. client mailings) or a presentation (e.g. board meeting) can be generated. With regard to the presentation option, you can for example, skip those cells that may contain text passages that might be too long for a presention."
        },
        {
          "cell_type": "markdown",
          "metadata": {
          },
          "source": "The basic usage of the `Notebook` is quite intuitive. You mainly navigate it with the arrow keys and “execute cells” by either using `shift & return` or `ctrl & return` . The difference is that the first option moves you automatically to the next cell after execution while the second option lets you remain at the same cell. The effect of “executing cells” depends on the type of the cell. If it is a `code` cell, then the code is executed and the output (if any) is shown. If it is a `markdown` cell, the content is rendered to show the result."
        },
        {
          "cell_type": "heading",
          "level": 4,
          "metadata": {
          },
          "source": "Markdown and Latex"
        },
        {
          "cell_type": "markdown",
          "metadata": {
          },
          "source": "The following shows a few selected examples for markdown commands."
        },
        {
          "cell_type": "code",
          "collapsed": false,
          "input": "**bold** prints the text in bold\n\n*italic* prints the text in italic\n\n_italic_ also prints it in italic\n\n**_italic_** bold and italic\n\nbullet point lists:\n\n* first_bullet\n* second_bullet\n\n&ndash; renders to a dash\n\n<br> inserts a line break",
          "language": "python",
          "metadata": {
          },
          "outputs": [

          ]
        },
        {
          "cell_type": "markdown",
          "metadata": {
          },
          "source": "Figure 2-4 shows the same code both in a raw text cell (which looks the same as above) and rendered in a markdown cell. In this way, you can easily combine `Python` code and formatted, nicely rendered text in a single document."
        },
        {
          "cell_type": "markdown",
          "metadata": {
          },
          "source": "<figure id=\"markdown\"><img src=\"files/images/markdown.png\" alt=\"markdown\"><figcaption>Screenshot of IPython Notebook with markdown rendering</figcaption></figure>"
        },
        {
          "cell_type": "markdown",
          "metadata": {
          },
          "source": "A detailed description of the `markdown` language used for `IPython Notebook` is found under [http://daringfireball.net/projects/markdown/](http://daringfireball.net/projects/markdown/)."
        },
        {
          "cell_type": "markdown",
          "metadata": {
          },
          "source": "As mentioned before, the rendering capabilities of `IPython` are not restricted to the markdown language. `IPython` also renders by default mathematical formulae described on the basis of the `Latex` typesetting system, the de facto standard for scientific publishing. Consider, for example, from [Chapter 1](ch01.html#why_python_for_finance) the formula for the index level in the Black Scholes Merton (1973) model as provided in [Black Scholes Merton (1973) index level at maturity](ch01.html#bsm_rv). For convenience, we repeat it here as Black Scholes Merton (1973) index level at maturity."
        },
        {
          "cell_type": "markdown",
          "metadata": {
          },
          "source": "The `Latex` code that describes Black Scholes Merton (1973) index level at maturity look like follows:"
        },
        {
          "cell_type": "code",
          "collapsed": false,
          "input": "S_T = S_0 \\exp(rT + \\sigma \\sqrt{T} z)",
          "language": "python",
          "metadata": {
          },
          "outputs": [

          ]
        },
        {
          "cell_type": "markdown",
          "metadata": {
          },
          "source": "Figure 2-5 shows a raw text cell with markdown text and the `Latex` code from above as well as the result as rendered in a markdown cell. The figure also shows a more complex formula, i.e. the Black Scholes Merton option pricing formula for European call options as found in [Black-Scholes-Merton (1973) option pricing formula](ch03.html#bsm_formula) in [Chapter 3](ch03.html#introductory_examples)."
        },
        {
          "cell_type": "markdown",
          "metadata": {
          },
          "source": "<figure id=\"latex\"><img src=\"files/images/latex.png\" alt=\"latex\"><figcaption>Markdown and Latex for financial formulae</figcaption></figure>"
        },
        {
          "cell_type": "heading",
          "level": 4,
          "metadata": {
          },
          "source": "Magic Commands"
        },
        {
          "cell_type": "markdown",
          "metadata": {
          },
          "source": "One of `IPython’s` strengths lies in its magic commands. They are “magic” in the sense that they add some really helpful and powerful functions to the standard `Python` shell functionality. Basic information and help about these functions can be accessed via:"
        },
        {
          "cell_type": "code",
          "collapsed": false,
          "input": "In [1]: %magic\n\n\nIPython's 'magic' functions\n===========================\n\nThe magic function system provides a series of functions which allow you to\ncontrol the behavior of IPython itself, plus a lot of system-type\nfeatures. There are two kinds of magics, line-oriented and cell-oriented.\n\n...",
          "language": "python",
          "metadata": {
          },
          "outputs": [

          ]
        },
        {
          "cell_type": "markdown",
          "metadata": {
          },
          "source": "A list of all available magic commands can be generated in a `IPython` session as follows:"
        },
        {
          "cell_type": "code",
          "collapsed": false,
          "input": "In [2]: %lsmagic\nOut[2]:\nAvailable line magics:\n%alias  %alias_magic  %autocall  %autoindent  %automagic  %bookmark  %cd\n%colors  %config  %cpaste  %debug  %dhist  %dirs  %doctest_mode  %ed  %edit\n%env  %gui  %hist  %history  %install_default_config  %install_ext\n%install_profiles  %killbgscripts  %load  %load_ext  %loadpy  %logoff  %logon\n%logstart  %logstate  %logstop  %lsmagic  %macro  %magic  %matplotlib\n%notebook  %page  %paste  %pastebin  %pdb  %pdef  %pdoc  %pfile  %pinfo\n%pinfo2  %popd  %pprint  %precision  %profile  %prun  %psearch  %psource\n%pushd  %pwd  %pycat  %pylab  %quickref  %recall  %rehashx  %reload_ext  %rep\n%rerun  %reset  %reset_selective  %run  %save  %sc  %store  %sx  %system  %tb\n%time  %timeit  %unalias  %unload_ext  %who  %who_ls  %whos  %xdel  %xmode\n\nAvailable cell magics:\n%%!  %%HTML  %%SVG  %%bash  %%capture  %%debug  %%file  %%html  %%javascript\n%%latex  %%perl  %%prun  %%pypy  %%python  %%python3  %%ruby  %%script  %%sh\n%%svg  %%sx  %%system  %%time  %%timeit  %%writefile\n\nAutomagic is ON, % prefix IS NOT needed for line magics.\n\nIn [2]:",
          "language": "python",
          "metadata": {
          },
          "outputs": [

          ]
        },
        {
          "cell_type": "markdown",
          "metadata": {
          },
          "source": "In interactive computing, magic commands can, for example, used for simple profiling tasks. For such a use case, you might use `%time` or `%prun` ."
        },
        {
          "cell_type": "code",
          "collapsed": false,
          "input": "In [3]: import numpy as np\n\nIn [4]: %time np.sin(np.arange(1000000))\nCPU times: user 31.8 ms, sys: 7.87 ms, total: 39.7 ms\nWall time: 39 ms\nOut[6]:\narray([ 0.        ,  0.84147098,  0.90929743, ...,  0.21429647,\n       -0.70613761, -0.97735203])\n\nIn [5]: %prun np.sin(np.arange(1000000))\n         3 function calls in 0.043 seconds\n\n   Ordered by: internal time\n\n   ncalls  tottime  percall  cumtime  percall filename:lineno(function)\n        1    0.041    0.041    0.043    0.043 <string>:1(<module>)\n        1    0.002    0.002    0.002    0.002 {numpy.core.multiarray.arange}\n        1    0.000    0.000    0.000    0.000 {method 'disable'\n        of '_lsprof.Profiler' objects}\n\n\nIn [6]:",
          "language": "python",
          "metadata": {
          },
          "outputs": [

          ]
        },
        {
          "cell_type": "markdown",
          "metadata": {
          },
          "source": "There is yet another command, i.e. `%timeit` or `%%timeit` , for timing codes in a single line or a whole cell in the `IPython` `Notebook`"
        },
        {
          "cell_type": "code",
          "collapsed": false,
          "input": "In [6]: %timeit np.sin(np.arange(1000000))\n10 loops, best of 3: 27.5 ms per loop\n\nIn [6]:",
          "language": "python",
          "metadata": {
          },
          "outputs": [

          ]
        },
        {
          "cell_type": "markdown",
          "metadata": {
          },
          "source": "This function executes a number of loops to get more reliable estimates for the duration of a function call or a snippet of code. It is not possible to explain in detail all magic functions that `IPython` provides. However, `IPython` itself strives to make it as easy as possible to interactively look up information about `IPython` and its commands. Among the most helpful are those listed in Table 2-2 (cf. [http://ipython.org/ipython-doc/rel-1.1.0/interactive/tutorial.html](http://ipython.org/ipython-doc/rel-1.1.0/interactive/tutorial.html))."
        },
        {
          "cell_type": "markdown",
          "metadata": {
          },
          "source": "<table id=\"ipython_help\">\n<caption>Selected help functions included in IPython</caption>\n<thead><tr>\n<th>name</th>\n<th>description</th>\n</tr></thead>\n<tbody>\n<tr>\n<td><p>?</p></td>\n<td><p>introduction and overview of <code>IPython</code> features</p></td>\n</tr>\n<tr>\n<td><p>%quickref</p></td>\n<td><p>quick reference</p></td>\n</tr>\n<tr>\n<td><p>help</p></td>\n<td><p><code>Python’s</code> own help system</p></td>\n</tr>\n<tr>\n<td><p>object?</p></td>\n<td><p>details about the “object”, use <code>object??</code> for extra details</p></td>\n</tr>\n</tbody>\n</table>\n"
        },
        {
          "cell_type": "markdown",
          "metadata": {
          },
          "source": "Another feature of `IPython` is that it is highly configurable. Information about the configuration capabilities are also found in the documentation (cf. [http://ipython.org/ipython-doc/rel-1.1.0/config/ipython.html](http://ipython.org/ipython-doc/rel-1.1.0/config/ipython.html))."
        },
        {
          "cell_type": "markdown",
          "metadata": {
          },
          "source": "A magic command that also helps with customizing `IPython` is `%bookmark` . This allows the bookmarking of arbitrary directories by the use of your custom names such that you can later — no matter from where the `IPython` kernel is invoked and not matter what the current directory is — navigate to any of your bookmarked directories immediately (i.e. you do not need to use `cd` ). The following shows how to set a bookmark and how to get a list of all bookmarks."
        },
        {
          "cell_type": "code",
          "collapsed": false,
          "input": "In [6]: %bookmark py4fi\n\nIn [7]: %bookmark -l\nCurrent bookmarks:\npy4fi -> /Users/yhilpisch/Documents/Work/1_Py4Fi/1234000001845/ipython",
          "language": "python",
          "metadata": {
          },
          "outputs": [

          ]
        },
        {
          "cell_type": "heading",
          "level": 4,
          "metadata": {
          },
          "source": "System Shell Commands"
        },
        {
          "cell_type": "markdown",
          "metadata": {
          },
          "source": "Yet another really helpful feature is that you can execute command line/system shell functions directly from an `IPython` prompt or a `Notebook` cell. To this end you need to use the `!` to indicate that the following command shall be escaped to the system shell (or `%%!` when a complete cell should be handled that way). As a simple illustration, the following creates a directory, moves to that directory, moves back and deletes it again."
        },
        {
          "cell_type": "code",
          "collapsed": false,
          "input": "In [7]: !mkdir python4finance\n\nIn [8]: cd python4finance/\n/Users/yhilpisch/python4finance\n\nIn [9]: cd ..\n/Users/yhilpisch\n\nIn [10]: !rm -rf python4finance/\n\nIn [11]:",
          "language": "python",
          "metadata": {
          },
          "outputs": [

          ]
        },
        {
          "cell_type": "markdown",
          "metadata": {
          },
          "source": "`IPython` provides you with all the functions you would expect from a powerful interactive development environment. It is often the case that people, beginners and experts alike, find their way to `Python` via `IPython` . Throughout the book, there is a plentitude of examples illustrating the use of `IPython` for interactive data and financial analytics. You should also consult the book by McKinney (2012), and in particular chapter 3, for further information of how to effectively use `IPython` ."
        },
        {
          "cell_type": "heading",
          "level": 3,
          "metadata": {
          },
          "source": "Spyder"
        },
        {
          "cell_type": "markdown",
          "metadata": {
          },
          "source": "While `IPython` satisfies for most users all their requirements for interactive analytics and prototyping, larger projects generally demand for “something more”. In particular, `IPython` itself has no editor directly build into the application. [5](ch02.html#idp8058352) For all those looking for a more traditional development environment, `Spyder` might therefore also be a good choice."
        },
        {
          "cell_type": "markdown",
          "metadata": {
          },
          "source": "Similar to `IPython` , `Spyder` has been designed to support rapid, interactive development with `Python` but it has, for example, a full-fledged editor, more powerful debugging capabilities, an object and variable inspector as well as a full integration of the `IPython` shell version. Within `Spyder` you can also start a standard `Python` prompt session."
        },
        {
          "cell_type": "markdown",
          "metadata": {
          },
          "source": "The built-in editor of `Spyder` provides all you need to do `Python` development. Among others (cf. [http://code.google.com/p/spyderlib/wiki/Features](http://code.google.com/p/spyderlib/wiki/Features)):"
        },
        {
          "cell_type": "markdown",
          "metadata": {
          },
          "source": "<ul>\n<li>\n<p><strong>highlighting</strong>: syntax coloring for <code>Python</code>, <code>C/C</code>++ and <code>Fortran</code> code, occurrence highlighting</p>\n</li>\n<li>\n<p><strong>introspection</strong>: powerful dynamic code introspection features (e.g. code completion, calltips, object definition with a mouse click)</p>\n</li>\n<li>\n<p><strong>code browser</strong>: browsing of classes and functions</p>\n</li>\n<li>\n<p><strong>project management</strong>: define and manage projects, generate to-do lists</p>\n</li>\n<li>\n<p><strong>instant code checking</strong>: get errors and warnings on the fly (by using <code>pyflakes</code>, cf. <a href=\"https://pypi.python.org/pypi/pyflakes\">https://pypi.python.org/pypi/pyflakes</a>)</p>\n</li>\n<li>\n<p><strong>debugging</strong>: set breakpoints and conditional breakpoints to use with the <code>Python</code> debugger <code>pdb</code> (cf. <a href=\"http://docs.python.org/2/library/pdb.html\">http://docs.python.org/2/library/pdb.html</a>)</p>\n</li>\n</ul>\n"
        },
        {
          "cell_type": "markdown",
          "metadata": {
          },
          "source": "In addition, `Spyder` provides further helpful functionality:"
        },
        {
          "cell_type": "markdown",
          "metadata": {
          },
          "source": "<ul>\n<li>\n<p><strong>consoles</strong>: open multiple <code>Python</code> and <code>IPython</code> consoles with separate processes each; run the code from the active editor tab (or parts of it) in a console</p>\n</li>\n<li>\n<p><strong>variable explorer</strong>: edit and compare variables and arrays; generate 2d plots of arrays on the fly; inspect variables while debugging</p>\n</li>\n<li>\n<p><strong>object inspector</strong>: display documentation strings interactively; automatic rendering of, for example, rich text formatting</p>\n</li>\n<li>\n<p><strong>other features</strong>: history log; array editor similar to a spreadsheet; direct access to online help; management and exploration of whole projects; syntax and code checking via <code>Pylint</code> (cf. <a href=\"http://www.pylint.org\">http://www.pylint.org</a>)</p>\n</li>\n</ul>\n"
        },
        {
          "cell_type": "markdown",
          "metadata": {
          },
          "source": "Figure 2-6 provides a screenshot of `Spyder` showing the text editor (on the left), the variable inspector (upper right) and an active `Python` console (lower right). `Spyder` is a good choice to start with `Python` programming, especially for those who are used, for example, to such environments as provided by `Matlab` or `R` . However, also advanced programmers find a lot of helpful development functionality under a single roof."
        },
        {
          "cell_type": "markdown",
          "metadata": {
          },
          "source": "<figure id=\"spyder\"><img src=\"files/images/spyder.png\" alt=\"spyder\"><figcaption>Screenshot of Spyder</figcaption></figure>"
        },
        {
          "cell_type": "heading",
          "level": 2,
          "metadata": {
          },
          "source": "Selected Best Practices"
        },
        {
          "cell_type": "markdown",
          "metadata": {
          },
          "source": "_Best practices_ in general are those rules, either written down formally or just practiced in daily life, that may distinguish the expert `Python` developer from the casual `Python` user. There are many of those and this chapter will briefly introduce some of the more important ones."
        },
        {
          "cell_type": "heading",
          "level": 3,
          "metadata": {
          },
          "source": "Python Syntax"
        },
        {
          "cell_type": "markdown",
          "metadata": {
          },
          "source": "One really helpful feature of `Spyder` is the automatic syntax and code checking which checks `Python` code for compliance with the `PEP 8` recommendations for `Python` syntax (cf. [http://www.python.org/dev/peps/pep-0008](http://www.python.org/dev/peps/pep-0008)). But what is codified in the “Python Enhancement Proposal 8”? In principle, a couple of code formatting rules that should both establish a common standard and allow for better readability of the code. In that sense, this approach is not too dissimlar from a written or printed natural language where also a couple of syntax rules apply."
        },
        {
          "cell_type": "markdown",
          "metadata": {
          },
          "source": "For example, consider the code in [Example 1-1](ch01.html#bsm_mcs_simple) of [Chapter 3](ch03.html#introductory_examples) for the valuation of a European call option via Monte Carlo simulation. First, have a look at the version of this code in Example 2-1 that is not `PEP 8` conform. It is rather packed, because there are mainly blank lines and spaces missing (sometimes there are also too many spaces)."
        },
        {
          "cell_type": "markdown",
          "metadata": {
          },
          "source": "Now, have a look at the version in Example 2-2 that is `PEP 8` conform (i.e. exactly the one found in [Example 1-1](ch01.html#bsm_mcs_simple)). The main difference in readability stems from two facts:"
        },
        {
          "cell_type": "markdown",
          "metadata": {
          },
          "source": "<ul>\n<li>\n<p><strong>blank lines</strong>: use of blank lines to indicate code blocks</p>\n</li>\n<li>\n<p><strong>spaces</strong>: use of spaces around <code>Python</code> operators (e.g. <code>=</code> or <code>*</code>) as well as before any hash tag for comments (here: two spaces)</p>\n</li>\n</ul>\n"
        },
        {
          "cell_type": "markdown",
          "metadata": {
          },
          "source": "Although the first version is perfectly executable by the `Python` interpreter, the second version for sure is better readable for both the programmer him-/herself and others who try to understand it."
        },
        {
          "cell_type": "markdown",
          "metadata": {
          },
          "source": "Some special rules apply to functions and classes when it comes to formatting. In general, there are supposed to be _two_ blank lines before any new function (method) definition as well as any new class definition. With functions there also comes _indentation_ into play. In general, indentation is achieved through _spaces_ and NOT through tabulators. As a general rule, take _four spaces_ per level of indentation. [6](ch02.html#idp8134992) Consider now Example 2-3."
        },
        {
          "cell_type": "markdown",
          "metadata": {
          },
          "source": "We immediately notice the role indentation plays in `Python` . There are multiple levels of indentation to indicate code blocks, here mainly “caused” by control structure elements (e.g. `if` or `else` ) or loops (e.g. `for` loop)."
        },
        {
          "cell_type": "markdown",
          "metadata": {
          },
          "source": "Control structure elements are explained in later chapters but the basic working of the function shall even be clear if you are not yet used to `Python` syntax. Table 2-3 lists a number of heavily used `Python` operators. Whenever there is a question mark in the description column of Table 2-3, the operation returns a `boolean` object (i.e. `True` or `False` )."
        },
        {
          "cell_type": "markdown",
          "metadata": {
          },
          "source": "<table id=\"operators\">\n<caption>Selected Python operators</caption>\n<thead><tr>\n<th>symbol</th>\n<th>description</th>\n</tr></thead>\n<tbody>\n<tr>\n<td><p><code>\\</code>+</p></td>\n<td><p>addition</p></td>\n</tr>\n<tr>\n<td><p><code>-</code></p></td>\n<td><p>subtraction</p></td>\n</tr>\n<tr>\n<td><p><code>/</code></p></td>\n<td><p>division</p></td>\n</tr>\n<tr>\n<td><p><code>*</code></p></td>\n<td><p>multiplication</p></td>\n</tr>\n<tr>\n<td><p><code>%</code></p></td>\n<td><p>modulo</p></td>\n</tr>\n<tr>\n<td><p><code>==</code></p></td>\n<td><p>is equal?</p></td>\n</tr>\n<tr>\n<td><p><code>!=</code></p></td>\n<td><p>is not equal?</p></td>\n</tr>\n<tr>\n<td><p><code>&lt;</code></p></td>\n<td><p>is smaller?</p></td>\n</tr>\n<tr>\n<td><p><code>⇐</code></p></td>\n<td><p>is equal or smaller?</p></td>\n</tr>\n<tr>\n<td><p><code>&gt;</code></p></td>\n<td><p>is larger?</p></td>\n</tr>\n<tr>\n<td><p><code>&gt;=</code></p></td>\n<td><p>is equal or larger?</p></td>\n</tr>\n</tbody>\n</table>"
        },
        {
          "cell_type": "heading",
          "level": 3,
          "metadata": {
          },
          "source": "Documentation"
        },
        {
          "cell_type": "markdown",
          "metadata": {
          },
          "source": "The two main elements of `Python` documentation are:"
        },
        {
          "cell_type": "markdown",
          "metadata": {
          },
          "source": "<ul>\n<li>\n<p><strong>inline documentation</strong>: inline documentation can in principle be placed anywhere in the code; it is indicated by the use of a leading hash tag <code>#</code> (at least one); in general there should at least be two spaces before a hash tag</p>\n</li>\n<li>\n<p><strong>documentation strings</strong>: such strings are used to provide documentation for <code>Python</code> functions (methods) and classes and are generally place within their definition (at the beginning of the indented code)</p>\n</li>\n</ul>\n"
        },
        {
          "cell_type": "markdown",
          "metadata": {
          },
          "source": "The code in Example 2-2 contains many example for inline documentation. Example 2-4 shows the same function definition as in Example 2-3, but this time with a documentation string added."
        },
        {
          "cell_type": "markdown",
          "metadata": {
          },
          "source": "In general, such a documentation string provides information about the following elements:"
        },
        {
          "cell_type": "markdown",
          "metadata": {
          },
          "source": "<ul>\n<li>\n<p><strong>input</strong>: which parameters/arguments to provide and in which format (e.g. <code>int</code>)</p>\n</li>\n<li>\n<p><strong>output</strong>: what the function/method returns and which format</p>\n</li>\n<li>\n<p><strong>errors</strong>: which errors might be raised</p>\n</li>\n<li>\n<p><strong>examples</strong>: example usage of the function/methods</p>\n</li>\n</ul>\n"
        },
        {
          "cell_type": "markdown",
          "metadata": {
          },
          "source": "The use of documentation strings is not only helpful for those who have a look at the code itself. The majority of `Python` tools, like `IPython` or `Spyder` , allow direct access to this documentation and help source. Figure 2-7 shows another screenshot of `Spyder` this time with the function `is_prime` shown in the editor and the rendered documentation string of the function in the object inspector (upper right). This illustrates how helpful it is to always include meaningful documentation strings in functions and classes."
        },
        {
          "cell_type": "markdown",
          "metadata": {
          },
          "source": "<figure id=\"spyder_docu\"><img src=\"files/images/spyder_docu.png\" alt=\"spyder docu\"><figcaption>Screenshot of Spyder with custom function and nicely rendered documentation string</figcaption></figure>"
        },
        {
          "cell_type": "heading",
          "level": 3,
          "metadata": {
          },
          "source": "Unit Testing"
        },
        {
          "cell_type": "markdown",
          "metadata": {
          },
          "source": "As a final best practice, we want to consider _unit testing_. From the different testing approaches, unit testing can indeed be considered best practice because it tests `Python` code on a rather fundamental level, i.e. the single _units_. Typically, such units are functions or classes or methods of classes. As a pretty simple example for a `Python` function that is also easily testable consider the one in Example 2-5."
        },
        {
          "cell_type": "markdown",
          "metadata": {
          },
          "source": "There are many tools available that help supporting unit tests. We want to make use of `nose` in what follows (cf. [https://nose.readthedocs.org/en/latest/](https://nose.readthedocs.org/en/latest/)). Example 2-6 contains a small test suite for the simple function `f` from Example 2-5."
        },
        {
          "cell_type": "markdown",
          "metadata": {
          },
          "source": "??? describes the test functions that are implemented."
        },
        {
          "cell_type": "markdown",
          "metadata": {
          },
          "source": "<table id=\"operators\">\n<caption>Test functions for simple function <code>f</code>\n</caption>\n<thead><tr>\n<th>function</th>\n<th>description</th>\n</tr></thead>\n<tbody>\n<tr>\n<td><p><code>test_f_calculation</code></p></td>\n<td><p>if the function generates correct results</p></td>\n</tr>\n<tr>\n<td><p><code>test_f_type_error</code></p></td>\n<td><p>if the function raises a type error when expected</p></td>\n</tr>\n<tr>\n<td><p><code>test_f_value_error</code></p></td>\n<td><p>if the function raises a value error when expected</p></td>\n</tr>\n<tr>\n<td><p><code>test_f_test_fails</code></p></td>\n<td><p>if the calculation test fails as expected (for illustration)</p></td>\n</tr>\n</tbody>\n</table>\n"
        },
        {
          "cell_type": "markdown",
          "metadata": {
          },
          "source": "From the command line/shell, you can run the tests as follows:"
        },
        {
          "cell_type": "code",
          "collapsed": false,
          "input": "$ nosetests nose_test.py\n...F\n======================================================================\nFAIL: Test if function test fails.\n ----------------------------------------------------------------------\n Traceback (most recent call last):\n   File \"/Library/anaconda/lib/python2.7/site-packages/nose/case.py\",\n   line 197, in runTest self.test(*self.arg)\n   File \"/Users/yhilpisch/Documents/Work/1_Py4Fi/1234000001845/python/nose_test.py\",\n   line 30, in test_f_test_fails\n     nt.assert_equal(f(5.), 10)\n AssertionError: 5.000000000000001 != 10\n\n ----------------------------------------------------------------------\nRan 4 tests in 0.002s\n\nFAILED (failures=1)\n$",
          "language": "python",
          "metadata": {
          },
          "outputs": [

          ]
        },
        {
          "cell_type": "markdown",
          "metadata": {
          },
          "source": "Obviously, the first three tests are successful while the last one fails as expected. By using such tools, and more importantly, such a rigorous approach to unit testing, you may have more effort up front but you and those working with the code will benefit tremendously in the long run."
        },
        {
          "cell_type": "heading",
          "level": 2,
          "metadata": {
          },
          "source": "Conclusions"
        },
        {
          "cell_type": "markdown",
          "metadata": {
          },
          "source": "If you are a beginner or casual `Python` developer or an expert coming from a different programming background, getting started with `Python` is generally pretty easy in that only a couple of simple steps are required. One the one hand, you should install an appropriate `Python` _distribution_, like `Anaconda` , to have a consistent `Python` environment available and also to simplify the updating procedures."
        },
        {
          "cell_type": "markdown",
          "metadata": {
          },
          "source": "With a distribution like `Anaconda` you also have available the most _important tools_ to interactively practice data and financial analyitcs, like `IPython` , or to develop larger applications in a more traditional implement-test-debug fashion, like with `Spyder` . Of course, you can add to the mix your favorite editor which probably already has `Python` syntax highlighting included. If you additionally are looking for syntax and code checking capabilities, you might consider the `Spyder` editor or any other `Python` focused editor available."
        },
        {
          "cell_type": "markdown",
          "metadata": {
          },
          "source": "This chapter also introduces a number of best practices in the areas of _syntax, documentation_ and _unit testing_. In terms of syntax, spaces and blank lines play an important role, also the indentation of code blocks. When it comes to documentation you should consider including documentation strings in any function and class providing background and help for such things like input parameters, output, possible errors and usage examples. Finally, you should start from the beginning to include unit tests in your development process (at least for larger projects or those shared with a broader user base) and use dedicated tools to simply the test procedures."
        },
        {
          "cell_type": "heading",
          "level": 2,
          "metadata": {
          },
          "source": "Further Reading"
        },
        {
          "cell_type": "markdown",
          "metadata": {
          },
          "source": "The following Web resources are helpful with regard to the topics covered in this chapter."
        },
        {
          "cell_type": "markdown",
          "metadata": {
          },
          "source": "<ul>\n<li>\n<p><a href=\"http://docs.continuum.io/anaconda/\">http://docs.continuum.io/anaconda/</a> for the <code>Anaconda</code> documentation</p>\n</li>\n<li>\n<p><a href=\"http://docs.continuum.io/conda/\">http://docs.continuum.io/conda/</a> for the <code>conda</code> documentation.</p>\n</li>\n<li>\n<p><a href=\"http://ipython.org/ipython-doc/rel-1.1.0/index.html\">http://ipython.org/ipython-doc/rel-1.1.0/index.html</a> for the <code>IPython</code> documentation (for version <code>1.1.0</code>)</p>\n</li>\n<li>\n<p><a href=\"http://daringfireball.net/projects/markdown/\">http://daringfireball.net/projects/markdown/</a> for the <code>markdown</code> language to use with <code>IPython</code></p>\n</li>\n<li>\n<p><a href=\"http://code.google.com/p/spyderlib\">http://code.google.com/p/spyderlib</a> for information about <code>Spyder</code></p>\n</li>\n<li>\n<p><a href=\"http://nose.readthedocs.org/en/latest/\">http://nose.readthedocs.org/en/latest/</a> for information and documentation about/for <code>nose</code></p>\n</li>\n</ul>\n"
        },
        {
          "cell_type": "markdown",
          "metadata": {
          },
          "source": "A good introduction to `Python` deployment and the use of `IPython` as a development environment is also found in the book McKinney, Wes (2012): _Python for Data Analysis_. O’Reilly, Beijing et al."
        }
      ],
      "metadata": {
      }
    }
  ]
}