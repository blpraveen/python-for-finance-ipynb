{
  "metadata": {
    "name": "Introductory Examples"
  },
  "nbformat": 3,
  "nbformat_minor": 0,
  "worksheets": [
    {
      "cells": [
        {
          "cell_type": "heading",
          "level": 1,
          "metadata": {
          },
          "source": "Introductory Examples"
        },
        {
          "cell_type": "markdown",
          "metadata": {
          },
          "source": "This chapter dives into some concrete financial examples to illustrate how convenient and powerful it is to use `Python` and its libraries for financial analytics. The focus lies on the flow of the exposition and a number of details that might be important in real-world applications are not touched upon. Also, details of the `Python` usage are mainly skipped because later chapters explain them in more detail."
        },
        {
          "cell_type": "markdown",
          "metadata": {
          },
          "source": "Specifically, this chapter presents the following examples:"
        },
        {
          "cell_type": "markdown",
          "metadata": {
          },
          "source": "<ul>\n<li>\n<p><strong>implied volatilities</strong>: option quotes for a certain date are taken to back out the implied volatilities of these options and to plot them; a task, option traders, risk managers, among others, are faced with on a daily basis</p>\n</li>\n<li>\n<p><strong>Monte Carlo simulation</strong>: the evolution of a stock index over time is simulated via Monte Carlo techniques, selected results are visualized and European option values are calculated; Monte Carlo simulation is a cornerstone for numerical option pricing as well as for risk management efforts involving Value-at-Risk calculations or Credit-Value-Adjustments</p>\n</li>\n<li>\n<p><strong>technical analysis</strong>: an analysis of historical time series data is implemented to backtest an investment strategy based on trend signals; both professional investors as well as ambitious amateurs regularly engage in this kind of investment analysis</p>\n</li>\n</ul>\n"
        },
        {
          "cell_type": "heading",
          "level": 2,
          "metadata": {
          },
          "source": "Implied Volatilities"
        },
        {
          "cell_type": "markdown",
          "metadata": {
          },
          "source": "Having an option pricing formula like the seminal one of Black Scholes Merton (1973, BSM), _implied volatilites_ are those volatility values that give ceteris paribus, when put into the formula, observed market quotes for different option strikes and maturities. In this case, the volatility is not an input parameter for the model/formula but the result of a (numerical) optimization procedure given the respective formula."
        },
        {
          "cell_type": "markdown",
          "metadata": {
          },
          "source": "The example we consider in the following is about a new generation of options, namely volatility options on the VSTOXX volatility index. Eurex, the derivatives exchange that provides these options on the VSTOXX and respective futures contracts, has established in June 2013 a comprehensive `Python` -based tutorial about the index and its derivatives contracts. The tutorial is called “VSTOXX Advanced Services” and is available to the interested public on the Eurex Web site under [http://www.eurexchange.com/vstoxx/](http://www.eurexchange.com/vstoxx/)."
        },
        {
          "cell_type": "markdown",
          "metadata": {
          },
          "source": "However, before proceeding with the VSTOXX options themselves, let us first reproduce the famous BSM formula for the pricing of European options."
        },
        {
          "cell_type": "markdown",
          "metadata": {
          },
          "source": "The different parameters have the following meaning:"
        },
        {
          "cell_type": "markdown",
          "metadata": {
          },
          "source": "<ul>\n<li>\n<p><span data-type=\"tex\">$S_t$</span> price/level of the underlying at time <span data-type=\"tex\">\\( t \\)</span></p>\n</li>\n<li>\n<p><span data-type=\"tex\">$\\sigma$</span> constant volatility (i.e. standard deviation of returns) of the underlying</p>\n</li>\n<li>\n<p><span data-type=\"tex\">$K$</span> strike price of the option</p>\n</li>\n<li>\n<p><span data-type=\"tex\">$T$</span> time-to-maturity of the option</p>\n</li>\n<li>\n<p><span data-type=\"tex\">$r$</span> constant risk-less short rate</p>\n</li>\n</ul>\n"
        },
        {
          "cell_type": "markdown",
          "metadata": {
          },
          "source": "Consider now that an option quote for a European call option $C\\*$ is given. The implied volatility $\\sigma^{imp}$ is the quantity that solves the implicit Implied volatility given market quote for option."
        },
        {
          "cell_type": "markdown",
          "metadata": {
          },
          "source": "There is no closed-form solution to this equation such that one has to use a numerical solution procedure like the Newton scheme to estimate the correct solution. This scheme iterates, using the first derivative of the relevant function, until a certain number of iterations or a certain degree of precision is reached. Formally, we have Newton scheme for numerically solving equations for some starting value $\\sigma^{imp}\\_{0}$ and for $0<n<\\infty$."
        },
        {
          "cell_type": "markdown",
          "metadata": {
          },
          "source": "The partial derivative of the option pricing formula with respect to the volatility is called _Vega_ and is given in closed-form by Vega of a European option in BSM model."
        },
        {
          "cell_type": "markdown",
          "metadata": {
          },
          "source": "The financial and numerical tools needed are now complete (even if only roughly described) and we can have a look into the respective `Python` code."
        },
        {
          "cell_type": "markdown",
          "metadata": {
          },
          "source": "These are only the basic functions needed to calculate implied volatilities. What we need as well, of course, are the respective option quotes, in our case for European call options on the VSTOXX index, and the main routine which generates the single implied volatilities."
        },
        {
          "cell_type": "markdown",
          "metadata": {
          },
          "source": "The `Python` module in Example 3-2 does roughly the following:"
        },
        {
          "cell_type": "markdown",
          "metadata": {
          },
          "source": "<ul>\n<li>\n<p>import of some necessary libraries and functions</p>\n</li>\n<li>\n<p>opening of a <code>pandas HDFStore</code> object and reading the relevant futures and options data from it; there are two <code>pandas</code> objects stored in the <code>HDFStore</code> object, a <code>TimeSeries</code> object called <code>futures_data</code> and <code>DataFrame</code> object called <code>option_data</code></p>\n</li>\n<li>\n<p>addition of a new column <em>imp_vol</em> to the <code>odat DataFrame</code> object to store the implied volatilities</p>\n</li>\n<li>\n<p>generation of maturities and strikes arrays</p>\n</li>\n<li>\n<p>calculation/estimation of the respective implied volatilies</p>\n</li>\n<li>\n<p>graphical output of all implied volatilities</p>\n</li>\n</ul>\n"
        },
        {
          "cell_type": "markdown",
          "metadata": {
          },
          "source": "Running this module generates all desired results."
        },
        {
          "cell_type": "code",
          "collapsed": false,
          "input": "In [1]: %matplotlib inline\n        %run vstoxx_imp_vol.py",
          "language": "python",
          "metadata": {
          },
          "outputs": [

          ]
        },
        {
          "cell_type": "markdown",
          "metadata": {
          },
          "source": "<figure id=\"vs_imp_vol\"><img src=\"files/images/vs_imp_vol.png\" alt=\"vs imp vol\"><figcaption>Implied volatilities (of volatility) for VSTOXX call options</figcaption></figure>"
        },
        {
          "cell_type": "markdown",
          "metadata": {
          },
          "source": "Figure 3-1 shows the graphical output of the code in Example 3-2. As in stock or foreign-exchange markets you notice the so-called _volatility smile_ which is most pronounced for the shortest maturity and which becomes less and less pronounced for the longer maturities."
        },
        {
          "cell_type": "markdown",
          "metadata": {
          },
          "source": "The data used to implement the analytics tasks is stored in two different basic `pandas` storage classes: `TimeSeries` and `DataFrame` . The futures data is “only” a time series, i.e. a time index plus a single respective series of data. The object looks like."
        },
        {
          "cell_type": "code",
          "collapsed": false,
          "input": "In [2]: fdat",
          "language": "python",
          "metadata": {
          },
          "outputs": [

          ]
        },
        {
          "cell_type": "code",
          "collapsed": false,
          "input": "Out[2]: Mat\n        0.052055    2145\n        0.128767    2210\n        0.224658    2225\n        0.301370    2350\n        0.397260    2430\n        0.473973    2465\n        0.550685    2530\n        0.646575    2595\n        Name: Close, dtype: float64",
          "language": "python",
          "metadata": {
          },
          "outputs": [

          ]
        },
        {
          "cell_type": "markdown",
          "metadata": {
          },
          "source": "On the other hand, for the options data we have, after the calculations, two time series stored in two different columns of the `DataFrame` object `odat` . We also use a `MultiIndex` comprised of the maturity _and_ the strike."
        },
        {
          "cell_type": "code",
          "collapsed": false,
          "input": "In [3]: odat",
          "language": "python",
          "metadata": {
          },
          "outputs": [

          ]
        },
        {
          "cell_type": "code",
          "collapsed": false,
          "input": "Out[3]: <class 'pandas.core.frame.DataFrame'>\n        MultiIndex: 131 entries, (0.0520547945205, 1400.0) to (0.646575342466, 3\n        250.0)\n        Data columns (total 2 columns):\n        close      131  non-null values\n        imp_vol    131  non-null values\n        dtypes: float64(2)",
          "language": "python",
          "metadata": {
          },
          "outputs": [

          ]
        },
        {
          "cell_type": "markdown",
          "metadata": {
          },
          "source": "A certain index position is uniquely defined by a combination of values from the first and second index level."
        },
        {
          "cell_type": "code",
          "collapsed": false,
          "input": "In [4]: odat.ix[10:30]",
          "language": "python",
          "metadata": {
          },
          "outputs": [

          ]
        },
        {
          "cell_type": "code",
          "collapsed": false,
          "input": "Out[4]:                  close   imp_vol\n        Mat      Strike\n        0.052055 2300      110  0.894891\n                 2400       90  0.943221\n                 2500       75  0.991685\n                 2600       65  1.048992\n                 2700       55  1.088502\n                 2750       50  1.101710\n                 2800       45  1.110435\n                 2900       40  1.158004\n                 3000       35  1.195083\n                 3250       25  1.270677\n        0.128767 1500      710  1.115991\n                 1600      620  1.026700\n                 1700      530  0.933161\n                 1800      450  0.877290\n                 1900      380  0.846248\n                 2000      320  0.831985\n                 2100      275  0.847354\n                 2200      230  0.841392\n                 2300      200  0.865706\n                 2400      170  0.873254",
          "language": "python",
          "metadata": {
          },
          "outputs": [

          ]
        },
        {
          "cell_type": "markdown",
          "metadata": {
          },
          "source": "It is also straightforward to plot selected data from such a `DataFrame` object."
        },
        {
          "cell_type": "code",
          "collapsed": false,
          "input": "In [5]: odat['close'][maturities[0]].plot(style='r^', title='Closing Quotes')",
          "language": "python",
          "metadata": {
          },
          "outputs": [

          ]
        },
        {
          "cell_type": "markdown",
          "metadata": {
          },
          "source": "<figure id=\"vs_option_quotes\"><img src=\"files/images/vs_option_quotes.png\" alt=\"vs option quotes\"><figcaption>Option quotes for shortest maturity VSTOXX call options</figcaption></figure>"
        },
        {
          "cell_type": "heading",
          "level": 2,
          "metadata": {
          },
          "source": "Monte Carlo Simulation"
        },
        {
          "cell_type": "markdown",
          "metadata": {
          },
          "source": "Monte Carlo simulation is one of the most important algorithms in finance and numerical science in general. Its importance stems from the fact that it is quite powerful when it comes to option pricing or risk management problems. In comparison to other numerical methods, the Monte Carlo method can easily cope with high dimensional problems while the complexity and computational demand, respectively, increase generally in linear fashion."
        },
        {
          "cell_type": "markdown",
          "metadata": {
          },
          "source": "The downside of the Monte Carlo method is that it is per se computationally demanding and often needs huge amounts of memory even for quite simple problems. Therefore, it is necessary to implement Monte Carlo algorithms efficiently. The example that follows illustrates different implementation strategies in `Python` and offers three different implementation approaches for a Monte Carlo-based valuation of a European option. The three are [7](ch03.html#idp8520160):"
        },
        {
          "cell_type": "markdown",
          "metadata": {
          },
          "source": "<ul>\n<li>\n<p><strong>pure <code>Python</code></strong>: this example sticks with the standard library and uses built-in <code>Python</code> capabilities to implement the Monte Carlo valuation</p>\n</li>\n<li>\n<p><strong>vectorized <code>NumPy</code></strong>: this implementation uses the capabilities of <code>NumPy</code> to make the implementation more compact and much faster</p>\n</li>\n<li>\n<p><strong>fully vectorized <code>NumPy</code></strong>: the final example combines a different mathematical formulation with the vectorization capabilities of <code>NumPy</code> to get an even more compact version of the same algorithm</p>\n</li>\n</ul>\n"
        },
        {
          "cell_type": "markdown",
          "metadata": {
          },
          "source": "The examples are based on the model economy of Black Scholes Merton (1973) where the risky underlying (e.g. a stock price, index level) follows, under risk-neutrality, a geometric Brownian motion with a stochastic differential equation (SDE) as in Black-Scholes-Merton (1973) stochastic differential equation."
        },
        {
          "cell_type": "markdown",
          "metadata": {
          },
          "source": "The BSM parameters are defined as before and $Z$ is a Brownian motion. A discretization scheme for the SDE in Black-Scholes-Merton (1973) stochastic differential equation is given by the difference equation in Euler discretization of SDE."
        },
        {
          "cell_type": "markdown",
          "metadata": {
          },
          "source": "The variable $ z $ is a standard normally distributed random variable, $0 < \\Delta t < T$ a (small enough) time inverval as well as $0 < t \\leq T$ with $ T $ the final time horizon. [8](ch03.html#idp8480224)"
        },
        {
          "cell_type": "markdown",
          "metadata": {
          },
          "source": "We parametrize the model with the values $ S\\_0 = 100$, $K = 105$, $T = 1.0$, $r = 0.05$, $\\sigma = 0.2 $. Using our BSM formula as in Black-Scholes-Merton (1973) option pricing formula and Example 3-1 from the previous example, we can calculate the exact option value as follows."
        },
        {
          "cell_type": "code",
          "collapsed": false,
          "input": "In [6]: from bsm_functions import bsm_call_value\n        S0 = 100.\n        K = 105.\n        T = 1.0\n        r = 0.05\n        sigma = 0.2\n        bsm_call_value(S0, K, T, r, sigma)",
          "language": "python",
          "metadata": {
          },
          "outputs": [

          ]
        },
        {
          "cell_type": "code",
          "collapsed": false,
          "input": "Out[6]: 8.0213522351431834",
          "language": "python",
          "metadata": {
          },
          "outputs": [

          ]
        },
        {
          "cell_type": "markdown",
          "metadata": {
          },
          "source": "This is our benchmark value for the Monte Carlo estimators which follow. To implement a Monte Carlo valuation of the European call option, the following recipe can be applied:"
        },
        {
          "cell_type": "markdown",
          "metadata": {
          },
          "source": "<ul>\n<li>\n<p>divide the time interval <span data-type=\"tex\">$ [ 0, T ] $</span> in equidistant sub-intervals of length <span data-type=\"tex\">$\\Delta t$</span></p>\n</li>\n<li>\n<p>start iterating <span data-type=\"tex\">$i = 1, 2, ..., I$</span></p>\n<ul>\n<li>\n<p>for every time step <span data-type=\"tex\">$ t \\in \\{ \\Delta  t, 2 \\Delta t, ..., T \\} $</span> draw pseudo-random numbers <span data-type=\"tex\">$ z_t(i) $</span></p>\n</li>\n<li>\n<p>determine the time <span data-type=\"tex\">$T$</span> value of the index level <span data-type=\"tex\">$S_T(i)$</span> by applying\nthe pseudo-random numbers time step by time step to the discretization scheme in <a data-type=\"xref\" href=\"#sde_disc_1\">Euler discretization of SDE</a></p>\n</li>\n<li>\n<p>determine the inner value <span data-type=\"tex\">$h_T$</span> of the European call option at <span data-type=\"tex\">$T$</span> as\n<span data-type=\"tex\">$ h_T(S_T(i)) = \\max [ S_T(i) - K, 0 ] $</span></p>\n</li>\n</ul>\n</li>\n<li>\n<p>iterate until <span data-type=\"tex\">$ i = I $</span></p>\n</li>\n<li>\n<p>sum up the inner values, average and discount them back with the risk-less short rate according to <a data-type=\"xref\" href=\"#mcs_est\">Monte Carlo estimator for European call option</a></p>\n</li>\n</ul>\n"
        },
        {
          "cell_type": "markdown",
          "metadata": {
          },
          "source": "Monte Carlo estimator for European call option provides the numerical Monte Carlo estimator for the value of the European call option."
        },
        {
          "cell_type": "heading",
          "level": 3,
          "metadata": {
          },
          "source": "Pure Python"
        },
        {
          "cell_type": "markdown",
          "metadata": {
          },
          "source": "Example 3-3 translates the parametrization and the Monte Carlo recipe into pure `Python` ."
        },
        {
          "cell_type": "markdown",
          "metadata": {
          },
          "source": "Running the scripts yields the following output."
        },
        {
          "cell_type": "code",
          "collapsed": false,
          "input": "In [7]: %run mcs_pure_python.py",
          "language": "python",
          "metadata": {
          },
          "outputs": [

          ]
        },
        {
          "cell_type": "code",
          "collapsed": false,
          "input": "Out[7]: European Option Value   8.046\n        Duration in Seconds    28.051",
          "language": "python",
          "metadata": {
          },
          "outputs": [

          ]
        },
        {
          "cell_type": "markdown",
          "metadata": {
          },
          "source": "However, the estimated option value itself depends on the pseudo-random numbers generated while the time needed is influenced by the hardware the script is executed on. In this case, the Monte Carlo estimator is quite close to the benchmark value."
        },
        {
          "cell_type": "markdown",
          "metadata": {
          },
          "source": "The major part of the code in Example 3-3 consists of a nested loop which generates step-by-step single values of an index level path in the inner loop and adds completed paths to a list object with the outer loop. The Monte Carlo estimator is calculated using `Python` ’s `list` comprehension syntax. The estimator could also be calculated by a `for` loop:"
        },
        {
          "cell_type": "code",
          "collapsed": false,
          "input": "In [8]: sum_val = 0.0\n        for path in S:\n            sum_val += max(path[-1] - K, 0)\n        C0 = exp(-r * T) * sum_val / I\n        round(C0, 3)",
          "language": "python",
          "metadata": {
          },
          "outputs": [

          ]
        },
        {
          "cell_type": "code",
          "collapsed": false,
          "input": "Out[8]: 8.046",
          "language": "python",
          "metadata": {
          },
          "outputs": [

          ]
        },
        {
          "cell_type": "markdown",
          "metadata": {
          },
          "source": "Although this loop yields the same result, the `list` comprehension syntax is more compact and closer to the mathematical notation of the Monte Carlo estimator."
        },
        {
          "cell_type": "heading",
          "level": 3,
          "metadata": {
          },
          "source": "Vectorization with NumPy"
        },
        {
          "cell_type": "markdown",
          "metadata": {
          },
          "source": "`NumPy` provides both a powerful multi-dimensional array class, called `ndarray` , as well as a comprehensive set of functions and methods to manipulate arrays and implement (complex) operations on such objects. From a more general point of view, there are two major benefits of using `NumPy` :"
        },
        {
          "cell_type": "markdown",
          "metadata": {
          },
          "source": "<ol>\n<li>\n<p><strong>syntax</strong>: <code>NumPy</code> allows generally implementations that are much more compact than pure <code>Python</code> and that are often better to read and maintain</p>\n</li>\n<li>\n<p><strong>speed</strong>: the majority of <code>NumPy</code> code is implemented in <code>C</code> or <code>Fortran</code> which makes <code>NumPy</code>, when used in the right way, much faster than pure <code>Python</code></p>\n</li>\n\n</ol>\n"
        },
        {
          "cell_type": "markdown",
          "metadata": {
          },
          "source": "The generally more compact syntax stems from the fact that `NumPy` brings powerful vectorization and broadcasting capabilities to `Python` . This is similar to having vector notation in mathematics for large vectors or matrices. For example, assume that we have given a vector with the first 100 natural numbers _1, …, 100_, i.e."
        },
        {
          "cell_type": "markdown",
          "metadata": {
          },
          "source": "Scalar multiplication of this vector is written compactly as"
        },
        {
          "cell_type": "markdown",
          "metadata": {
          },
          "source": "Let’s see if we can do this with `Python` lists, for example."
        },
        {
          "cell_type": "code",
          "collapsed": false,
          "input": "In [9]: v = range(1, 101)\n        2 * v[:5]",
          "language": "python",
          "metadata": {
          },
          "outputs": [

          ]
        },
        {
          "cell_type": "code",
          "collapsed": false,
          "input": "Out[9]: [1, 2, 3, 4, 5, 1, 2, 3, 4, 5]",
          "language": "python",
          "metadata": {
          },
          "outputs": [

          ]
        },
        {
          "cell_type": "markdown",
          "metadata": {
          },
          "source": "_Naive_ scalar multipliction does not return the scalar product. It rather returns in this case two times the object (vector). With `NumPy` the result is, however, as desired:"
        },
        {
          "cell_type": "code",
          "collapsed": false,
          "input": "In [10]: import numpy as np\n         v = np.arange(1, 101)\n         2 * v",
          "language": "python",
          "metadata": {
          },
          "outputs": [

          ]
        },
        {
          "cell_type": "code",
          "collapsed": false,
          "input": "Out[10]: array([  2,   4,   6,   8,  10,  12,  14,  16,  18,  20,  22,  24,  26,\n                 28,  30,  32,  34,  36,  38,  40,  42,  44,  46,  48,  50,  52,\n                 54,  56,  58,  60,  62,  64,  66,  68,  70,  72,  74,  76,  78,\n                 80,  82,  84,  86,  88,  90,  92,  94,  96,  98, 100, 102, 104,\n                106, 108, 110, 112, 114, 116, 118, 120, 122, 124, 126, 128, 130,\n                132, 134, 136, 138, 140, 142, 144, 146, 148, 150, 152, 154, 156,\n                158, 160, 162, 164, 166, 168, 170, 172, 174, 176, 178, 180, 182,\n                184, 186, 188, 190, 192, 194, 196, 198, 200])",
          "language": "python",
          "metadata": {
          },
          "outputs": [

          ]
        },
        {
          "cell_type": "markdown",
          "metadata": {
          },
          "source": "This approach can be beneficially applied to the Monte Carlo algorithm. Example 3-4 provides the respective code, this time making use of `NumPy` ’s vectorization capabilities."
        },
        {
          "cell_type": "code",
          "collapsed": false,
          "input": "In [11]: %run mcs_vector_numpy.py",
          "language": "python",
          "metadata": {
          },
          "outputs": [

          ]
        },
        {
          "cell_type": "code",
          "collapsed": false,
          "input": "Out[11]: European Option Value   8.031\n         Duration in Seconds     0.929",
          "language": "python",
          "metadata": {
          },
          "outputs": [

          ]
        },
        {
          "cell_type": "code",
          "collapsed": false,
          "input": "In [12]: round(tpy / tnp1, 2)",
          "language": "python",
          "metadata": {
          },
          "outputs": [

          ]
        },
        {
          "cell_type": "code",
          "collapsed": false,
          "input": "Out[12]: 30.2",
          "language": "python",
          "metadata": {
          },
          "outputs": [

          ]
        },
        {
          "cell_type": "markdown",
          "metadata": {
          },
          "source": "Vectorization brings roughly a _speed-up of more than 30 times_ in comparison to pure `Python` . The estimated Monte Carlo value is again quite close to the benchmark value."
        },
        {
          "cell_type": "markdown",
          "metadata": {
          },
          "source": "The vectorization becomes obvious when the pseudo-random numbers are generated. In the respective line, 250,000 numbers are generated in a single step, i.e. a single line of code,"
        },
        {
          "cell_type": "code",
          "collapsed": false,
          "input": "z = np.random.standard_normal(I)",
          "language": "python",
          "metadata": {
          },
          "outputs": [

          ]
        },
        {
          "cell_type": "markdown",
          "metadata": {
          },
          "source": "Similarly, this vector of pseudo-random numbers is applied to the discretization scheme _at once_ per time step in a vectorized fashion. In that sense, the tasks that are accomplished by the outer loop in Example 3-3 are now delegeted to `NumPy` avoiding the outer loop completely on the `Python` level."
        },
        {
          "cell_type": "heading",
          "level": 3,
          "metadata": {
          },
          "source": "Full Vectorization with Log Euler Scheme"
        },
        {
          "cell_type": "markdown",
          "metadata": {
          },
          "source": "Using a different discretization scheme for the SDE in Black-Scholes-Merton (1973) stochastic differential equation can yield an even more compact implementation of the Monte Carlo algorithm. To this end, consider the log-version of the discretization in Euler discretization of SDE which takes on the form as in Euler discretization of SDE (log version)."
        },
        {
          "cell_type": "markdown",
          "metadata": {
          },
          "source": "This version is completely additive, allowing for an implementation of the Monte Carlo algorithm without any loop on the `Python` level. Example 3-5 shows the resulting code."
        },
        {
          "cell_type": "code",
          "collapsed": false,
          "input": "In [13]: %run mcs_full_vector_numpy.py",
          "language": "python",
          "metadata": {
          },
          "outputs": [

          ]
        },
        {
          "cell_type": "code",
          "collapsed": false,
          "input": "Out[13]: European Option Value   8.154\n         Duration in Seconds     0.975",
          "language": "python",
          "metadata": {
          },
          "outputs": [

          ]
        },
        {
          "cell_type": "markdown",
          "metadata": {
          },
          "source": "The valuation result is not too close to the benchmark value and the execution speed is somewhat slower. There might also be a trade-off between compactness and readability in that this implementation approach makes it quite difficult to grasp what exactly is going on on the `NumPy` level."
        },
        {
          "cell_type": "heading",
          "level": 3,
          "metadata": {
          },
          "source": "Graphical Analysis"
        },
        {
          "cell_type": "markdown",
          "metadata": {
          },
          "source": "Finally, let us have a gaphical look at the underlying mechanics. First, we plot the first 10 simulated pathts over all time steps. Figure 3-3 shows the output."
        },
        {
          "cell_type": "code",
          "collapsed": false,
          "input": "In [14]: import matplotlib.pyplot as plt\n         plt.plot(S[:, :10])\n         plt.grid(True)\n         plt.xlabel('time step')\n         plt.ylabel('index level')",
          "language": "python",
          "metadata": {
          },
          "outputs": [

          ]
        },
        {
          "cell_type": "markdown",
          "metadata": {
          },
          "source": "<figure id=\"index_paths\"><img src=\"files/images/index_paths.png\" alt=\"index paths\"><figcaption>The first 10 simulated index level paths</figcaption></figure>"
        },
        {
          "cell_type": "markdown",
          "metadata": {
          },
          "source": "Second, we want to see the frequency of the simulated index levels at the end of the period. Figure 3-4 shows the output, this time illustrating the (approximately) log-normal distribution of the end of period index level values."
        },
        {
          "cell_type": "code",
          "collapsed": false,
          "input": "In [15]: plt.hist(S[-1], bins=25)\n         plt.grid(True)\n         plt.xlabel('index level')\n         plt.ylabel('frequency')",
          "language": "python",
          "metadata": {
          },
          "outputs": [

          ]
        },
        {
          "cell_type": "markdown",
          "metadata": {
          },
          "source": "<figure id=\"index_histo\"><img src=\"files/images/index_histo.png\" alt=\"index histo\"><figcaption>Histogram of all simulated end of period index level values</figcaption></figure>"
        },
        {
          "cell_type": "markdown",
          "metadata": {
          },
          "source": "The same type of figure looks completely different for the option’s end of period (maturity) inner values."
        },
        {
          "cell_type": "code",
          "collapsed": false,
          "input": "In [16]: plt.hist(np.maximum(S[-1] - K, 0), bins=25)\n         plt.grid(True)\n         plt.xlabel('option inner value')\n         plt.ylabel('frequency')\n         plt.ylim(0, 50000)",
          "language": "python",
          "metadata": {
          },
          "outputs": [

          ]
        },
        {
          "cell_type": "markdown",
          "metadata": {
          },
          "source": "<figure id=\"option_iv_hist\"><img src=\"files/images/option_iv_hist.png\" alt=\"option iv hist\"><figcaption>Histogram of all simulated end of period option inner values</figcaption></figure>"
        },
        {
          "cell_type": "markdown",
          "metadata": {
          },
          "source": "In this case, the majority of the simluated values is zero, indicating that the European call option expires worthless in a significant amount of cases. The exact number is generated through the following calculation."
        },
        {
          "cell_type": "code",
          "collapsed": false,
          "input": "In [17]: I - len(np.nonzero(np.maximum(S[-1] - K, 0))[0])",
          "language": "python",
          "metadata": {
          },
          "outputs": [

          ]
        },
        {
          "cell_type": "code",
          "collapsed": false,
          "input": "Out[17]: 133851",
          "language": "python",
          "metadata": {
          },
          "outputs": [

          ]
        },
        {
          "cell_type": "markdown",
          "metadata": {
          },
          "source": "This number might vary somewhat, of course, from simulation to simulation. Figure 3-5 illustrates this insight graphically."
        },
        {
          "cell_type": "heading",
          "level": 2,
          "metadata": {
          },
          "source": "Technical Analysis"
        },
        {
          "cell_type": "markdown",
          "metadata": {
          },
          "source": "Technical analysis based on historical price information is a typical task finance professionals and interested amateurs are often engaging in. In Wikipedia (see [http://en.wikipedia.org/wiki/Technical\\_analysis/)](http://en.wikipedia.org/wiki/Technical_analysis/)) you find the following definition:"
        },
        {
          "cell_type": "markdown",
          "metadata": {
          },
          "source": "In what follows, we focus on the study of past market data for backtesting purposes, and not too much on using our insights to predict future price movements. Our object of study is the benchmark index Standard & Poors 500 (S&P 500) which is generally considered to be a good proxy for the _whole_ stock market in the the US. This is due to the high number of names included in the index and the total market capitalization represented by it. It has also highly liquid futures and options markets."
        },
        {
          "cell_type": "markdown",
          "metadata": {
          },
          "source": "We will read historical index level information from a Web source and will implement a simple backtesting for a trading system based on trend signals. But first we need the data to get started. To this end, we mainly rely on the `pandas` library which simplifies a number of related technical issues. Since it is used almost always, we should also import `NumPy` by default."
        },
        {
          "cell_type": "code",
          "collapsed": false,
          "input": "In [18]: import numpy as np\n         import pandas as pd\n         import pandas.io.data as pdd",
          "language": "python",
          "metadata": {
          },
          "outputs": [

          ]
        },
        {
          "cell_type": "markdown",
          "metadata": {
          },
          "source": "The sub-library `pandas.io.data` contains the function `DataReader` which helps with getting financial time series data from different sources and in particular from the popular Yahoo! Finance site [http://finance.yahoo.com](http://finance.yahoo.com). Let’s retrieve the data we are looking for, starting on 01. January 2000."
        },
        {
          "cell_type": "code",
          "collapsed": false,
          "input": "In [19]: sp500 = pdd.DataReader('^GSPC', data_source='yahoo',\n                                start='1/1/2000', end='1/17/2014')\n         sp500",
          "language": "python",
          "metadata": {
          },
          "outputs": [

          ]
        },
        {
          "cell_type": "code",
          "collapsed": false,
          "input": "Out[19]: <class 'pandas.core.frame.DataFrame'>\n         DatetimeIndex: 3533 entries, 2000-01-03 00:00:00 to 2014-01-17 00:00:00\n         Data columns (total 6 columns):\n         Open         3533  non-null values\n         High         3533  non-null values\n         Low          3533  non-null values\n         Close        3533  non-null values\n         Volume       3533  non-null values\n         Adj Close    3533  non-null values\n         dtypes: float64(5), int64(1)",
          "language": "python",
          "metadata": {
          },
          "outputs": [

          ]
        },
        {
          "cell_type": "markdown",
          "metadata": {
          },
          "source": "`DataReader` has connected to the data source via an Internet connection and has given back the time series data for the S&P 500 index beginning from the first trading day in 2000 until the last available trading date. It has also generated automatically a time index with `Timestamp` objects."
        },
        {
          "cell_type": "markdown",
          "metadata": {
          },
          "source": "To get a first impression, we can plot the closing quotes over time. This gives an output as in Figure 3-6."
        },
        {
          "cell_type": "code",
          "collapsed": false,
          "input": "In [20]: sp500['Close'].plot(grid=True)",
          "language": "python",
          "metadata": {
          },
          "outputs": [

          ]
        },
        {
          "cell_type": "markdown",
          "metadata": {
          },
          "source": "<figure id=\"sp500\"><img src=\"files/images/sp500.png\" alt=\"sp500\"><figcaption>The S&amp;P 500 Index</figcaption></figure>"
        },
        {
          "cell_type": "markdown",
          "metadata": {
          },
          "source": "The trend strategy we want to implement is based on both a **two months** (i.e. 42 trading days) and a **one year** (i.e. 252 trading days) **trend** (i.e. the moving average of the index level for the respective period). Again, `pandas` makes it efficient to generate the respective time series and to plot the three relevant time series in a single figure."
        },
        {
          "cell_type": "code",
          "collapsed": false,
          "input": "In [21]: sp500['42d'] = pd.rolling_mean(sp500['Close'], 42)\n         sp500['252d'] = pd.rolling_mean(sp500['Close'], 252)",
          "language": "python",
          "metadata": {
          },
          "outputs": [

          ]
        },
        {
          "cell_type": "markdown",
          "metadata": {
          },
          "source": "For example, first line above simultaneously _adds a new column_ to the `pandas` `DataFrame` object and _puts in the values_ for the 42 days trend. The same for the second line with respect to the 252 days trend. Consequently, we now have two new columns. These have fewer entries due to the very nature of the data we have generated for the these columns, i.e. they start only at those dates when 42 and 252 observation points, respectively, are available for the first time to calculate the desired the statistics."
        },
        {
          "cell_type": "code",
          "collapsed": false,
          "input": "In [22]: sp500",
          "language": "python",
          "metadata": {
          },
          "outputs": [

          ]
        },
        {
          "cell_type": "code",
          "collapsed": false,
          "input": "Out[22]: <class 'pandas.core.frame.DataFrame'>\n         DatetimeIndex: 3533 entries, 2000-01-03 00:00:00 to 2014-01-17 00:00:00\n         Data columns (total 8 columns):\n         Open         3533  non-null values\n         High         3533  non-null values\n         Low          3533  non-null values\n         Close        3533  non-null values\n         Volume       3533  non-null values\n         Adj Close    3533  non-null values\n         42d          3492  non-null values\n         252d         3282  non-null values\n         dtypes: float64(7), int64(1)",
          "language": "python",
          "metadata": {
          },
          "outputs": [

          ]
        },
        {
          "cell_type": "markdown",
          "metadata": {
          },
          "source": "The resulting plot in Figure 3-7 already provides some insights into what was going on in the past with respect to upwards and downwards trends."
        },
        {
          "cell_type": "code",
          "collapsed": false,
          "input": "In [23]: sp500[['Close', '42d', '252d']].plot()",
          "language": "python",
          "metadata": {
          },
          "outputs": [

          ]
        },
        {
          "cell_type": "markdown",
          "metadata": {
          },
          "source": "<figure id=\"sp500_trend\"><img src=\"files/images/sp500_trend.png\" alt=\"sp500 trend\"><figcaption>The S&amp;P 500 index with 42d and 252d trend lines</figcaption></figure>"
        },
        {
          "cell_type": "markdown",
          "metadata": {
          },
          "source": "Our basic data set is mainly complete such that we now can devise a rule to generate trading signals. The rule says the following:"
        },
        {
          "cell_type": "markdown",
          "metadata": {
          },
          "source": "<ul>\n<li>\n<p><strong>buy signal</strong> (go long): the 42d trend is for the first time <strong>SD points above</strong> the 252d trend</p>\n</li>\n<li>\n<p><strong>wait</strong> (park in cash): the 42d trend is within a range of <strong>+/- SD points around</strong> the 252d trend</p>\n</li>\n<li>\n<p><strong>sell signal</strong> (go short): the 42d trend is for the first time <strong>SD points below</strong> the 252d trend</p>\n</li>\n</ul>\n"
        },
        {
          "cell_type": "markdown",
          "metadata": {
          },
          "source": "To this end, we add a new column to the `pandas` `DataFrame` object for the differences between the two trends. As you can see, numerical operations with `pandas` can in general be implemented in a _vectorized_ fashion in that one can take the difference between two whole columns."
        },
        {
          "cell_type": "code",
          "collapsed": false,
          "input": "In [24]: sp500['42-252'] = sp500['42d'] - sp500['252d']\n         sp500['42-252'].tail()",
          "language": "python",
          "metadata": {
          },
          "outputs": [

          ]
        },
        {
          "cell_type": "code",
          "collapsed": false,
          "input": "Out[24]: Date\n         2014-01-13    152.736587\n         2014-01-14    152.970476\n         2014-01-15    153.058730\n         2014-01-16    152.893492\n         2014-01-17    152.438571\n         Name: 42-252, dtype: float64",
          "language": "python",
          "metadata": {
          },
          "outputs": [

          ]
        },
        {
          "cell_type": "markdown",
          "metadata": {
          },
          "source": "On the last available trading date the 42d trend lies 152.4 points above the 252d trend. Although the number of entries in the two trend columns is not equal, `pandas` takes care of this by putting `NaN` values at the respective index positions."
        },
        {
          "cell_type": "code",
          "collapsed": false,
          "input": "In [25]: sp500['42-252'].head()",
          "language": "python",
          "metadata": {
          },
          "outputs": [

          ]
        },
        {
          "cell_type": "code",
          "collapsed": false,
          "input": "Out[25]: Date\n         2000-01-03   NaN\n         2000-01-04   NaN\n         2000-01-05   NaN\n         2000-01-06   NaN\n         2000-01-07   NaN\n         Name: 42-252, dtype: float64",
          "language": "python",
          "metadata": {
          },
          "outputs": [

          ]
        },
        {
          "cell_type": "markdown",
          "metadata": {
          },
          "source": "To make it more formal, we again generate a new column for what we call a **regime**. We assume a value of 50 for the signal threshold"
        },
        {
          "cell_type": "code",
          "collapsed": false,
          "input": "In [26]: SD = 50\n         sp500['Regime'] = np.where(sp500['42-252'] > SD, 1, 0)\n         sp500['Regime'] = np.where(sp500['42-252'] < -SD, -1, sp500['Regime'])\n         sp500['Regime'].value_counts()",
          "language": "python",
          "metadata": {
          },
          "outputs": [

          ]
        },
        {
          "cell_type": "code",
          "collapsed": false,
          "input": "Out[26]:  1    1430\n          0    1232\n         -1     871\n         dtype: int64",
          "language": "python",
          "metadata": {
          },
          "outputs": [

          ]
        },
        {
          "cell_type": "markdown",
          "metadata": {
          },
          "source": "In words, on 1,430 trading dates, the 42d trend lies more than `SD` points above the 252d trend. On 1,232 days, the 42d trend is more than `SD` points below the 252d trend. Obviously, if the short-term trend crosses the line of the long-term trend it tends to rest there for a (longer) while. This is what we call **regime** and what is illustrated in Figure 3-8 which is generated by the following two lines of code."
        },
        {
          "cell_type": "code",
          "collapsed": false,
          "input": "In [27]: sp500['Regime'].plot(lw=1.5)\n         plt.ylim([-1.1, 1.1])",
          "language": "python",
          "metadata": {
          },
          "outputs": [

          ]
        },
        {
          "cell_type": "markdown",
          "metadata": {
          },
          "source": "<figure id=\"sp500_signal\"><img src=\"files/images/sp500_signal.png\" alt=\"sp500 signal\"><figcaption>Signal regimes over time</figcaption></figure>"
        },
        {
          "cell_type": "markdown",
          "metadata": {
          },
          "source": "Everything is now available to test the investment strategy based on the signals. We assume for simplicity that an investor can directly invest in the index or can directly short the index which in the real world must be accomplished by using index funds, exchange-traded funds or futures on the index, for example. Such trades inevitably lead to transaction costs which we neglect here. This seems justifiable since we do not plan to trade “too often”."
        },
        {
          "cell_type": "markdown",
          "metadata": {
          },
          "source": "Based on the respective regime, the investor either is long or short the market (index) or parks his wealth in cash which does not bear any interest. This simplified strategy allows us to work with market returns only. The investor makes the market return when he is long ( `1), makes the negative market returns when he is short (-1) and makes no returns (0) when he parks his wealth in cash. We therefore need the returns first. In +Python` , we have the following vectorized `pandas` operation to calculate the log returns. Note that the `shift` method shift a time series by as many index entries as desired, in our case by one trading day such that we get daily log returns."
        },
        {
          "cell_type": "code",
          "collapsed": false,
          "input": "In [28]: sp500['Returns'] = np.log(sp500['Close'] / sp500['Close'].shift(1))",
          "language": "python",
          "metadata": {
          },
          "outputs": [

          ]
        },
        {
          "cell_type": "markdown",
          "metadata": {
          },
          "source": "Recalling how we constructed our regimes, it is now simple to get the returns of the trend-based trading strategy: we just have to multiply our `Regime` column by the `Returns` columns."
        },
        {
          "cell_type": "code",
          "collapsed": false,
          "input": "In [29]: sp500['Strategy'] = sp500['Regime'] * sp500['Returns']",
          "language": "python",
          "metadata": {
          },
          "outputs": [

          ]
        },
        {
          "cell_type": "markdown",
          "metadata": {
          },
          "source": "The strategy pays off well, the investor is able to lock in a much higher return over the relevant period than a plain long investment would provide. Figure 3-9 compares the cumulative returns of the index with the cumulative returns of our strategy."
        },
        {
          "cell_type": "code",
          "collapsed": false,
          "input": "In [30]: sp500[['Returns', 'Strategy']].cumsum().plot(grid=True)",
          "language": "python",
          "metadata": {
          },
          "outputs": [

          ]
        },
        {
          "cell_type": "markdown",
          "metadata": {
          },
          "source": "<figure id=\"sp500_wealth\"><img src=\"files/images/sp500_wealth.png\" alt=\"sp500 wealth\"><figcaption>The S&amp;P 500 index vs. investor’s wealth</figcaption></figure>"
        },
        {
          "cell_type": "markdown",
          "metadata": {
          },
          "source": "Figure 3-9 shows that especially during market downturns (2003 and 2008/2009) the shorting of the market yields quite high returns. Although the strategy does not capture the whole upside during bullish periods, the strategy as a whole outperforms the markets quite significantly."
        },
        {
          "cell_type": "markdown",
          "metadata": {
          },
          "source": "However, we have to keep in mind that we completely neglect operational issues (like trade execution) and relevant market microstructure elements (e.g. transaction costs). For example, we are working with daily closing values. A question would be when to execute an exit from the market (from being long to being neutral/in cash). On the same day at the closing value or the next day at the opening value. Such considerations for sure have an impact on the performance but the overall result would probably persist. Also transaction costs generally diminish returns."
        },
        {
          "cell_type": "heading",
          "level": 2,
          "metadata": {
          },
          "source": "Conclusions"
        },
        {
          "cell_type": "markdown",
          "metadata": {
          },
          "source": "Without going into too much detail, this chapter illustrates the use of `Python` by the means of concrete and rather typical financial examples:"
        },
        {
          "cell_type": "markdown",
          "metadata": {
          },
          "source": "<ul>\n<li>\n<p><strong>calculation of implied volatilities</strong>: using real world data, in the form of a cross section of option data for a given day, we calculate numerically the implied volatilities of European call options on the VSTOXX volatility index; this example introduces some custom <code>Python</code> functions (e.g. for analytical option valuation) and uses some built-in functions from <code>NumPy</code> and <code>SciPy</code></p>\n</li>\n<li>\n<p><strong>Monte Carlo simulation</strong>: using different implementation approaches, we simulate the evolution of an index level over time and use our simulated end of period values to derive Monte Carlo estimators for European call options; using <code>NumPy</code>, the major benefits of vectorization of <code>Python</code> code are illustrated, namely <em>compactness of code</em> and <em>speed of execution</em></p>\n</li>\n<li>\n<p><strong>backtesting of trend signal strategy</strong>: using real historical time series data for the S&amp;P 500, we backtest the performance of a trading strategy based on signals generated on the basis of 42 days and 252 days trends (moving averages); the example illustrates the <em>capabilities and convenience</em> of <code>pandas</code> when it comes to time series analytics</p>\n</li>\n</ul>\n"
        },
        {
          "cell_type": "markdown",
          "metadata": {
          },
          "source": "In terms of working with `Python` , this chapter introduces interactive financial analytics (using the `IPython` interactive shell), working with more complex functions stored in modules as well as the performance-oriented implementation of algorithms using vectorization. One important topic is not covered, namely object orientation and classes in `Python` . For the curious reader, ??? contains a class definition for a European call option with methods based on the functions found in the code of Example 3-1 in this chapter."
        },
        {
          "cell_type": "heading",
          "level": 2,
          "metadata": {
          },
          "source": "Further Reading"
        },
        {
          "cell_type": "markdown",
          "metadata": {
          },
          "source": "The major references used in this chapter are:"
        },
        {
          "cell_type": "markdown",
          "metadata": {
          },
          "source": "<ul>\n<li>\n<p>Black, Fischer and Myron Scholes (1973): “The Pricing of Options and Corporate Liabilities.” <em>Journal of Political Economy</em>, Vol. 81, No. 3, pp. 638-659.</p>\n</li>\n<li>\n<p>Hilpisch, Yves (2013a): <em>Derivatives Analytics with Python</em>. Visixion GmbH. See the Web site <a href=\"http://www.derivatives-analytics-with-python.com\">http://www.derivatives-analytics-with-python.com</a>.</p>\n</li>\n<li>\n<p>Hilpisch, Yves (2013b): “Efficient Data and Financial Analytics with Python.” <em>Software Developer’s Journal</em>, No. 13, pp. 56-65. See the Web site <a href=\"http://sdjournal.org/python-starterkit-released/\">http://sdjournal.org/python-starterkit-released/</a></p>\n</li>\n<li>\n<p>Merton, Robert (1973): “Theory of Rational Option Pricing.” <em>Bell Journal of Economics and Management Science</em>, Vol. 4, pp. 141-183.</p>\n</li>\n</ul>"
        }
      ],
      "metadata": {
      }
    }
  ]
}